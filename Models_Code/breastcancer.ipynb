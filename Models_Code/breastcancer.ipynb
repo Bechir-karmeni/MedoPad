{
 "cells": [
  {
   "cell_type": "code",
   "execution_count": 1,
   "metadata": {
    "execution": {
     "iopub.execute_input": "2021-02-16T20:36:53.699015Z",
     "iopub.status.busy": "2021-02-16T20:36:53.698283Z",
     "iopub.status.idle": "2021-02-16T20:36:55.434263Z",
     "shell.execute_reply": "2021-02-16T20:36:55.433579Z"
    },
    "id": "EwCiemK3C1P4",
    "papermill": {
     "duration": 1.792137,
     "end_time": "2021-02-16T20:36:55.434488",
     "exception": false,
     "start_time": "2021-02-16T20:36:53.642351",
     "status": "completed"
    },
    "tags": []
   },
   "outputs": [
    {
     "data": {
      "text/html": [
       "<div>\n",
       "<style scoped>\n",
       "    .dataframe tbody tr th:only-of-type {\n",
       "        vertical-align: middle;\n",
       "    }\n",
       "\n",
       "    .dataframe tbody tr th {\n",
       "        vertical-align: top;\n",
       "    }\n",
       "\n",
       "    .dataframe thead th {\n",
       "        text-align: right;\n",
       "    }\n",
       "</style>\n",
       "<table border=\"1\" class=\"dataframe\">\n",
       "  <thead>\n",
       "    <tr style=\"text-align: right;\">\n",
       "      <th></th>\n",
       "      <th>id</th>\n",
       "      <th>diagnosis</th>\n",
       "      <th>radius_mean</th>\n",
       "      <th>texture_mean</th>\n",
       "      <th>perimeter_mean</th>\n",
       "      <th>area_mean</th>\n",
       "      <th>smoothness_mean</th>\n",
       "      <th>compactness_mean</th>\n",
       "      <th>concavity_mean</th>\n",
       "      <th>concave points_mean</th>\n",
       "      <th>symmetry_mean</th>\n",
       "      <th>fractal_dimension_mean</th>\n",
       "      <th>radius_se</th>\n",
       "      <th>texture_se</th>\n",
       "      <th>perimeter_se</th>\n",
       "      <th>area_se</th>\n",
       "      <th>smoothness_se</th>\n",
       "      <th>compactness_se</th>\n",
       "      <th>concavity_se</th>\n",
       "      <th>concave points_se</th>\n",
       "      <th>symmetry_se</th>\n",
       "      <th>fractal_dimension_se</th>\n",
       "      <th>radius_worst</th>\n",
       "      <th>texture_worst</th>\n",
       "      <th>perimeter_worst</th>\n",
       "      <th>area_worst</th>\n",
       "      <th>smoothness_worst</th>\n",
       "      <th>compactness_worst</th>\n",
       "      <th>concavity_worst</th>\n",
       "      <th>concave points_worst</th>\n",
       "      <th>symmetry_worst</th>\n",
       "      <th>fractal_dimension_worst</th>\n",
       "      <th>Unnamed: 32</th>\n",
       "    </tr>\n",
       "  </thead>\n",
       "  <tbody>\n",
       "    <tr>\n",
       "      <th>0</th>\n",
       "      <td>842302</td>\n",
       "      <td>M</td>\n",
       "      <td>17.99</td>\n",
       "      <td>10.38</td>\n",
       "      <td>122.80</td>\n",
       "      <td>1001.0</td>\n",
       "      <td>0.11840</td>\n",
       "      <td>0.27760</td>\n",
       "      <td>0.3001</td>\n",
       "      <td>0.14710</td>\n",
       "      <td>0.2419</td>\n",
       "      <td>0.07871</td>\n",
       "      <td>1.0950</td>\n",
       "      <td>0.9053</td>\n",
       "      <td>8.589</td>\n",
       "      <td>153.40</td>\n",
       "      <td>0.006399</td>\n",
       "      <td>0.04904</td>\n",
       "      <td>0.05373</td>\n",
       "      <td>0.01587</td>\n",
       "      <td>0.03003</td>\n",
       "      <td>0.006193</td>\n",
       "      <td>25.38</td>\n",
       "      <td>17.33</td>\n",
       "      <td>184.60</td>\n",
       "      <td>2019.0</td>\n",
       "      <td>0.1622</td>\n",
       "      <td>0.6656</td>\n",
       "      <td>0.7119</td>\n",
       "      <td>0.2654</td>\n",
       "      <td>0.4601</td>\n",
       "      <td>0.11890</td>\n",
       "      <td>NaN</td>\n",
       "    </tr>\n",
       "    <tr>\n",
       "      <th>1</th>\n",
       "      <td>842517</td>\n",
       "      <td>M</td>\n",
       "      <td>20.57</td>\n",
       "      <td>17.77</td>\n",
       "      <td>132.90</td>\n",
       "      <td>1326.0</td>\n",
       "      <td>0.08474</td>\n",
       "      <td>0.07864</td>\n",
       "      <td>0.0869</td>\n",
       "      <td>0.07017</td>\n",
       "      <td>0.1812</td>\n",
       "      <td>0.05667</td>\n",
       "      <td>0.5435</td>\n",
       "      <td>0.7339</td>\n",
       "      <td>3.398</td>\n",
       "      <td>74.08</td>\n",
       "      <td>0.005225</td>\n",
       "      <td>0.01308</td>\n",
       "      <td>0.01860</td>\n",
       "      <td>0.01340</td>\n",
       "      <td>0.01389</td>\n",
       "      <td>0.003532</td>\n",
       "      <td>24.99</td>\n",
       "      <td>23.41</td>\n",
       "      <td>158.80</td>\n",
       "      <td>1956.0</td>\n",
       "      <td>0.1238</td>\n",
       "      <td>0.1866</td>\n",
       "      <td>0.2416</td>\n",
       "      <td>0.1860</td>\n",
       "      <td>0.2750</td>\n",
       "      <td>0.08902</td>\n",
       "      <td>NaN</td>\n",
       "    </tr>\n",
       "    <tr>\n",
       "      <th>2</th>\n",
       "      <td>84300903</td>\n",
       "      <td>M</td>\n",
       "      <td>19.69</td>\n",
       "      <td>21.25</td>\n",
       "      <td>130.00</td>\n",
       "      <td>1203.0</td>\n",
       "      <td>0.10960</td>\n",
       "      <td>0.15990</td>\n",
       "      <td>0.1974</td>\n",
       "      <td>0.12790</td>\n",
       "      <td>0.2069</td>\n",
       "      <td>0.05999</td>\n",
       "      <td>0.7456</td>\n",
       "      <td>0.7869</td>\n",
       "      <td>4.585</td>\n",
       "      <td>94.03</td>\n",
       "      <td>0.006150</td>\n",
       "      <td>0.04006</td>\n",
       "      <td>0.03832</td>\n",
       "      <td>0.02058</td>\n",
       "      <td>0.02250</td>\n",
       "      <td>0.004571</td>\n",
       "      <td>23.57</td>\n",
       "      <td>25.53</td>\n",
       "      <td>152.50</td>\n",
       "      <td>1709.0</td>\n",
       "      <td>0.1444</td>\n",
       "      <td>0.4245</td>\n",
       "      <td>0.4504</td>\n",
       "      <td>0.2430</td>\n",
       "      <td>0.3613</td>\n",
       "      <td>0.08758</td>\n",
       "      <td>NaN</td>\n",
       "    </tr>\n",
       "    <tr>\n",
       "      <th>3</th>\n",
       "      <td>84348301</td>\n",
       "      <td>M</td>\n",
       "      <td>11.42</td>\n",
       "      <td>20.38</td>\n",
       "      <td>77.58</td>\n",
       "      <td>386.1</td>\n",
       "      <td>0.14250</td>\n",
       "      <td>0.28390</td>\n",
       "      <td>0.2414</td>\n",
       "      <td>0.10520</td>\n",
       "      <td>0.2597</td>\n",
       "      <td>0.09744</td>\n",
       "      <td>0.4956</td>\n",
       "      <td>1.1560</td>\n",
       "      <td>3.445</td>\n",
       "      <td>27.23</td>\n",
       "      <td>0.009110</td>\n",
       "      <td>0.07458</td>\n",
       "      <td>0.05661</td>\n",
       "      <td>0.01867</td>\n",
       "      <td>0.05963</td>\n",
       "      <td>0.009208</td>\n",
       "      <td>14.91</td>\n",
       "      <td>26.50</td>\n",
       "      <td>98.87</td>\n",
       "      <td>567.7</td>\n",
       "      <td>0.2098</td>\n",
       "      <td>0.8663</td>\n",
       "      <td>0.6869</td>\n",
       "      <td>0.2575</td>\n",
       "      <td>0.6638</td>\n",
       "      <td>0.17300</td>\n",
       "      <td>NaN</td>\n",
       "    </tr>\n",
       "    <tr>\n",
       "      <th>4</th>\n",
       "      <td>84358402</td>\n",
       "      <td>M</td>\n",
       "      <td>20.29</td>\n",
       "      <td>14.34</td>\n",
       "      <td>135.10</td>\n",
       "      <td>1297.0</td>\n",
       "      <td>0.10030</td>\n",
       "      <td>0.13280</td>\n",
       "      <td>0.1980</td>\n",
       "      <td>0.10430</td>\n",
       "      <td>0.1809</td>\n",
       "      <td>0.05883</td>\n",
       "      <td>0.7572</td>\n",
       "      <td>0.7813</td>\n",
       "      <td>5.438</td>\n",
       "      <td>94.44</td>\n",
       "      <td>0.011490</td>\n",
       "      <td>0.02461</td>\n",
       "      <td>0.05688</td>\n",
       "      <td>0.01885</td>\n",
       "      <td>0.01756</td>\n",
       "      <td>0.005115</td>\n",
       "      <td>22.54</td>\n",
       "      <td>16.67</td>\n",
       "      <td>152.20</td>\n",
       "      <td>1575.0</td>\n",
       "      <td>0.1374</td>\n",
       "      <td>0.2050</td>\n",
       "      <td>0.4000</td>\n",
       "      <td>0.1625</td>\n",
       "      <td>0.2364</td>\n",
       "      <td>0.07678</td>\n",
       "      <td>NaN</td>\n",
       "    </tr>\n",
       "  </tbody>\n",
       "</table>\n",
       "</div>"
      ],
      "text/plain": [
       "         id diagnosis  radius_mean  texture_mean  perimeter_mean  area_mean  \\\n",
       "0    842302         M        17.99         10.38          122.80     1001.0   \n",
       "1    842517         M        20.57         17.77          132.90     1326.0   \n",
       "2  84300903         M        19.69         21.25          130.00     1203.0   \n",
       "3  84348301         M        11.42         20.38           77.58      386.1   \n",
       "4  84358402         M        20.29         14.34          135.10     1297.0   \n",
       "\n",
       "   smoothness_mean  compactness_mean  concavity_mean  concave points_mean  \\\n",
       "0          0.11840           0.27760          0.3001              0.14710   \n",
       "1          0.08474           0.07864          0.0869              0.07017   \n",
       "2          0.10960           0.15990          0.1974              0.12790   \n",
       "3          0.14250           0.28390          0.2414              0.10520   \n",
       "4          0.10030           0.13280          0.1980              0.10430   \n",
       "\n",
       "   symmetry_mean  fractal_dimension_mean  radius_se  texture_se  perimeter_se  \\\n",
       "0         0.2419                 0.07871     1.0950      0.9053         8.589   \n",
       "1         0.1812                 0.05667     0.5435      0.7339         3.398   \n",
       "2         0.2069                 0.05999     0.7456      0.7869         4.585   \n",
       "3         0.2597                 0.09744     0.4956      1.1560         3.445   \n",
       "4         0.1809                 0.05883     0.7572      0.7813         5.438   \n",
       "\n",
       "   area_se  smoothness_se  compactness_se  concavity_se  concave points_se  \\\n",
       "0   153.40       0.006399         0.04904       0.05373            0.01587   \n",
       "1    74.08       0.005225         0.01308       0.01860            0.01340   \n",
       "2    94.03       0.006150         0.04006       0.03832            0.02058   \n",
       "3    27.23       0.009110         0.07458       0.05661            0.01867   \n",
       "4    94.44       0.011490         0.02461       0.05688            0.01885   \n",
       "\n",
       "   symmetry_se  fractal_dimension_se  radius_worst  texture_worst  \\\n",
       "0      0.03003              0.006193         25.38          17.33   \n",
       "1      0.01389              0.003532         24.99          23.41   \n",
       "2      0.02250              0.004571         23.57          25.53   \n",
       "3      0.05963              0.009208         14.91          26.50   \n",
       "4      0.01756              0.005115         22.54          16.67   \n",
       "\n",
       "   perimeter_worst  area_worst  smoothness_worst  compactness_worst  \\\n",
       "0           184.60      2019.0            0.1622             0.6656   \n",
       "1           158.80      1956.0            0.1238             0.1866   \n",
       "2           152.50      1709.0            0.1444             0.4245   \n",
       "3            98.87       567.7            0.2098             0.8663   \n",
       "4           152.20      1575.0            0.1374             0.2050   \n",
       "\n",
       "   concavity_worst  concave points_worst  symmetry_worst  \\\n",
       "0           0.7119                0.2654          0.4601   \n",
       "1           0.2416                0.1860          0.2750   \n",
       "2           0.4504                0.2430          0.3613   \n",
       "3           0.6869                0.2575          0.6638   \n",
       "4           0.4000                0.1625          0.2364   \n",
       "\n",
       "   fractal_dimension_worst  Unnamed: 32  \n",
       "0                  0.11890          NaN  \n",
       "1                  0.08902          NaN  \n",
       "2                  0.08758          NaN  \n",
       "3                  0.17300          NaN  \n",
       "4                  0.07678          NaN  "
      ]
     },
     "execution_count": 1,
     "metadata": {},
     "output_type": "execute_result"
    }
   ],
   "source": [
    "# imports needed\n",
    "%matplotlib inline\n",
    "\n",
    "import time\n",
    "import random\n",
    "import numpy as np\n",
    "import pandas as pd\n",
    "import seaborn as sns\n",
    "import matplotlib.pyplot as plt\n",
    "from sklearn.metrics import roc_curve, auc\n",
    "from sklearn.metrics import confusion_matrix\n",
    "from sklearn.metrics import classification_report\n",
    "from sklearn.model_selection import KFold, cross_val_score\n",
    "from sklearn.model_selection import train_test_split, GridSearchCV\n",
    "from sklearn.ensemble import RandomForestClassifier \n",
    "from urllib.request import urlopen \n",
    "\n",
    "plt.style.use('ggplot')\n",
    "pd.set_option('display.max_columns', 500) \n",
    "\n",
    "# Get Wisconsin Breast Cancer Data\n",
    "breast_cancer = pd.read_csv('../input/breast-cancer-wisconsin-data/data.csv')\n",
    "\n",
    "names = ['id', 'diagnosis', 'radius_mean', \n",
    "         'texture_mean', 'perimeter_mean', 'area_mean', \n",
    "         'smoothness_mean', 'compactness_mean', \n",
    "         'concavity_mean','concave_points_mean', \n",
    "         'symmetry_mean', 'fractal_dimension_mean',\n",
    "         'radius_se', 'texture_se', 'perimeter_se', \n",
    "         'area_se', 'smoothness_se', 'compactness_se', \n",
    "         'concavity_se', 'concave_points_se', \n",
    "         'symmetry_se', 'fractal_dimension_se', \n",
    "         'radius_worst', 'texture_worst', \n",
    "         'perimeter_worst', 'area_worst', \n",
    "         'smoothness_worst', 'compactness_worst', \n",
    "         'concavity_worst', 'concave_points_worst', \n",
    "         'symmetry_worst', 'fractal_dimension_worst'] \n",
    "\n",
    "dx = ['Benign', 'Malignant']\n",
    "breast_cancer.head()"
   ]
  },
  {
   "cell_type": "code",
   "execution_count": 2,
   "metadata": {
    "execution": {
     "iopub.execute_input": "2021-02-16T20:36:55.530454Z",
     "iopub.status.busy": "2021-02-16T20:36:55.519303Z",
     "iopub.status.idle": "2021-02-16T20:36:55.535686Z",
     "shell.execute_reply": "2021-02-16T20:36:55.535101Z"
    },
    "id": "_vfzsy7UE0Rt",
    "papermill": {
     "duration": 0.062781,
     "end_time": "2021-02-16T20:36:55.535847",
     "exception": false,
     "start_time": "2021-02-16T20:36:55.473066",
     "status": "completed"
    },
    "tags": []
   },
   "outputs": [
    {
     "data": {
      "text/html": [
       "<div>\n",
       "<style scoped>\n",
       "    .dataframe tbody tr th:only-of-type {\n",
       "        vertical-align: middle;\n",
       "    }\n",
       "\n",
       "    .dataframe tbody tr th {\n",
       "        vertical-align: top;\n",
       "    }\n",
       "\n",
       "    .dataframe thead th {\n",
       "        text-align: right;\n",
       "    }\n",
       "</style>\n",
       "<table border=\"1\" class=\"dataframe\">\n",
       "  <thead>\n",
       "    <tr style=\"text-align: right;\">\n",
       "      <th></th>\n",
       "      <th>diagnosis</th>\n",
       "    </tr>\n",
       "    <tr>\n",
       "      <th>id</th>\n",
       "      <th></th>\n",
       "    </tr>\n",
       "  </thead>\n",
       "  <tbody>\n",
       "    <tr>\n",
       "      <th>842302</th>\n",
       "      <td>1</td>\n",
       "    </tr>\n",
       "    <tr>\n",
       "      <th>842517</th>\n",
       "      <td>1</td>\n",
       "    </tr>\n",
       "    <tr>\n",
       "      <th>84300903</th>\n",
       "      <td>1</td>\n",
       "    </tr>\n",
       "    <tr>\n",
       "      <th>84348301</th>\n",
       "      <td>1</td>\n",
       "    </tr>\n",
       "    <tr>\n",
       "      <th>84358402</th>\n",
       "      <td>1</td>\n",
       "    </tr>\n",
       "    <tr>\n",
       "      <th>...</th>\n",
       "      <td>...</td>\n",
       "    </tr>\n",
       "    <tr>\n",
       "      <th>926424</th>\n",
       "      <td>1</td>\n",
       "    </tr>\n",
       "    <tr>\n",
       "      <th>926682</th>\n",
       "      <td>1</td>\n",
       "    </tr>\n",
       "    <tr>\n",
       "      <th>926954</th>\n",
       "      <td>1</td>\n",
       "    </tr>\n",
       "    <tr>\n",
       "      <th>927241</th>\n",
       "      <td>1</td>\n",
       "    </tr>\n",
       "    <tr>\n",
       "      <th>92751</th>\n",
       "      <td>0</td>\n",
       "    </tr>\n",
       "  </tbody>\n",
       "</table>\n",
       "<p>569 rows × 1 columns</p>\n",
       "</div>"
      ],
      "text/plain": [
       "          diagnosis\n",
       "id                 \n",
       "842302            1\n",
       "842517            1\n",
       "84300903          1\n",
       "84348301          1\n",
       "84358402          1\n",
       "...             ...\n",
       "926424            1\n",
       "926682            1\n",
       "926954            1\n",
       "927241            1\n",
       "92751             0\n",
       "\n",
       "[569 rows x 1 columns]"
      ]
     },
     "execution_count": 2,
     "metadata": {},
     "output_type": "execute_result"
    }
   ],
   "source": [
    "# Setting 'id_number' as our index\n",
    "breast_cancer.set_index(['id'], inplace = True) \n",
    "\n",
    "# Converted to binary to help later on with models and plots\n",
    "breast_cancer['diagnosis'] = breast_cancer['diagnosis'].map({'M':1, 'B':0})\n",
    "\n",
    "# check mapping worked \n",
    "mapping = breast_cancer[['diagnosis']]\n",
    "mapping"
   ]
  },
  {
   "cell_type": "code",
   "execution_count": 3,
   "metadata": {
    "execution": {
     "iopub.execute_input": "2021-02-16T20:36:55.625036Z",
     "iopub.status.busy": "2021-02-16T20:36:55.624294Z",
     "iopub.status.idle": "2021-02-16T20:36:55.651319Z",
     "shell.execute_reply": "2021-02-16T20:36:55.650644Z"
    },
    "id": "8TpfZli3F-XU",
    "papermill": {
     "duration": 0.075589,
     "end_time": "2021-02-16T20:36:55.651464",
     "exception": false,
     "start_time": "2021-02-16T20:36:55.575875",
     "status": "completed"
    },
    "tags": []
   },
   "outputs": [
    {
     "data": {
      "text/plain": [
       "diagnosis                  0\n",
       "radius_mean                0\n",
       "texture_mean               0\n",
       "perimeter_mean             0\n",
       "area_mean                  0\n",
       "smoothness_mean            0\n",
       "compactness_mean           0\n",
       "concavity_mean             0\n",
       "concave points_mean        0\n",
       "symmetry_mean              0\n",
       "fractal_dimension_mean     0\n",
       "radius_se                  0\n",
       "texture_se                 0\n",
       "perimeter_se               0\n",
       "area_se                    0\n",
       "smoothness_se              0\n",
       "compactness_se             0\n",
       "concavity_se               0\n",
       "concave points_se          0\n",
       "symmetry_se                0\n",
       "fractal_dimension_se       0\n",
       "radius_worst               0\n",
       "texture_worst              0\n",
       "perimeter_worst            0\n",
       "area_worst                 0\n",
       "smoothness_worst           0\n",
       "compactness_worst          0\n",
       "concavity_worst            0\n",
       "concave points_worst       0\n",
       "symmetry_worst             0\n",
       "fractal_dimension_worst    0\n",
       "dtype: int64"
      ]
     },
     "execution_count": 3,
     "metadata": {},
     "output_type": "execute_result"
    }
   ],
   "source": [
    "# check check number of null values in each field\n",
    "breast_cancer.apply(lambda x: x.isnull().sum())\n",
    "\n",
    "# drop the field we dont need\n",
    "breast_cancer = breast_cancer.drop(columns=['Unnamed: 32'])\n",
    "\n",
    "# double check the field is gone\n",
    "breast_cancer.apply(lambda x: x.isnull().sum())"
   ]
  },
  {
   "cell_type": "code",
   "execution_count": 4,
   "metadata": {
    "execution": {
     "iopub.execute_input": "2021-02-16T20:36:55.737561Z",
     "iopub.status.busy": "2021-02-16T20:36:55.736577Z",
     "iopub.status.idle": "2021-02-16T20:36:55.746417Z",
     "shell.execute_reply": "2021-02-16T20:36:55.745222Z"
    },
    "id": "5DLwgG_-HO1o",
    "papermill": {
     "duration": 0.054945,
     "end_time": "2021-02-16T20:36:55.746661",
     "exception": false,
     "start_time": "2021-02-16T20:36:55.691716",
     "status": "completed"
    },
    "tags": []
   },
   "outputs": [
    {
     "name": "stdout",
     "output_type": "stream",
     "text": [
      "Shape of our dataframe:\n",
      " (569, 31)\n",
      "data types of our columns:\n",
      " diagnosis                    int64\n",
      "radius_mean                float64\n",
      "texture_mean               float64\n",
      "perimeter_mean             float64\n",
      "area_mean                  float64\n",
      "smoothness_mean            float64\n",
      "compactness_mean           float64\n",
      "concavity_mean             float64\n",
      "concave points_mean        float64\n",
      "symmetry_mean              float64\n",
      "fractal_dimension_mean     float64\n",
      "radius_se                  float64\n",
      "texture_se                 float64\n",
      "perimeter_se               float64\n",
      "area_se                    float64\n",
      "smoothness_se              float64\n",
      "compactness_se             float64\n",
      "concavity_se               float64\n",
      "concave points_se          float64\n",
      "symmetry_se                float64\n",
      "fractal_dimension_se       float64\n",
      "radius_worst               float64\n",
      "texture_worst              float64\n",
      "perimeter_worst            float64\n",
      "area_worst                 float64\n",
      "smoothness_worst           float64\n",
      "compactness_worst          float64\n",
      "concavity_worst            float64\n",
      "concave points_worst       float64\n",
      "symmetry_worst             float64\n",
      "fractal_dimension_worst    float64\n",
      "dtype: object\n"
     ]
    }
   ],
   "source": [
    "# some infomation about the data, could also do this with breast_cancer.info()\n",
    "print(\"Shape of our dataframe:\\n\", \n",
    "     breast_cancer.shape)\n",
    "print(\"data types of our columns:\\n\",\n",
    "     breast_cancer.dtypes)"
   ]
  },
  {
   "cell_type": "code",
   "execution_count": 5,
   "metadata": {
    "execution": {
     "iopub.execute_input": "2021-02-16T20:36:55.841811Z",
     "iopub.status.busy": "2021-02-16T20:36:55.840696Z",
     "iopub.status.idle": "2021-02-16T20:36:55.846662Z",
     "shell.execute_reply": "2021-02-16T20:36:55.845929Z"
    },
    "id": "GoQT1V_VHei0",
    "outputId": "1e72d0f5-59c8-493c-83f1-5a6202b2c738",
    "papermill": {
     "duration": 0.05878,
     "end_time": "2021-02-16T20:36:55.846822",
     "exception": false,
     "start_time": "2021-02-16T20:36:55.788042",
     "status": "completed"
    },
    "tags": []
   },
   "outputs": [
    {
     "name": "stdout",
     "output_type": "stream",
     "text": [
      "Distribution between Benign and Malignant\n",
      "Percent Benign: 0.627 \n",
      "Percent Malignant: 0.373 \n"
     ]
    }
   ],
   "source": [
    "# check if dataset is suffers imbalance between classes Benign = 0 and Malignant = 1\n",
    "s = pd.value_counts(breast_cancer.diagnosis)\n",
    "\n",
    "# for class 0\n",
    "num_of_benign = s[0]\n",
    "# for class 1\n",
    "num_of_malignant = s[1]\n",
    "\n",
    "total_cases = len(breast_cancer)\n",
    "\n",
    "# calculate percentages of data that resides in both classes\n",
    "percent_b = num_of_benign / total_cases\n",
    "percent_m = num_of_malignant / total_cases\n",
    "\n",
    "print(\"Distribution between Benign and Malignant\\nPercent Benign: {0:.3f} \\nPercent Malignant: {1:.3f} \".format(percent_b, percent_m))"
   ]
  },
  {
   "cell_type": "markdown",
   "metadata": {
    "id": "hX8xKdtVfHv3",
    "papermill": {
     "duration": 0.041139,
     "end_time": "2021-02-16T20:36:55.929425",
     "exception": false,
     "start_time": "2021-02-16T20:36:55.888286",
     "status": "completed"
    },
    "tags": []
   },
   "source": [
    "No class imbalance here so we can proceed."
   ]
  },
  {
   "cell_type": "code",
   "execution_count": 6,
   "metadata": {
    "execution": {
     "iopub.execute_input": "2021-02-16T20:36:56.022032Z",
     "iopub.status.busy": "2021-02-16T20:36:56.019900Z",
     "iopub.status.idle": "2021-02-16T20:36:56.024997Z",
     "shell.execute_reply": "2021-02-16T20:36:56.025646Z"
    },
    "id": "kMDGdQI6NlQ6",
    "papermill": {
     "duration": 0.055796,
     "end_time": "2021-02-16T20:36:56.025825",
     "exception": false,
     "start_time": "2021-02-16T20:36:55.970029",
     "status": "completed"
    },
    "tags": []
   },
   "outputs": [],
   "source": [
    "# create dataset\n",
    "feature_space = breast_cancer.iloc[:, breast_cancer.columns != 'diagnosis']\n",
    "feature_class = breast_cancer.iloc[:, breast_cancer.columns == 'diagnosis']\n",
    "\n",
    "# train_test_split\n",
    "training_set, test_set, class_set, test_class_set = train_test_split(feature_space,\n",
    "                                                                    feature_class,\n",
    "                                                                    test_size = 0.20, \n",
    "                                                                    random_state = 42)\n",
    "# Cleaning test sets to avoid future warning messages\n",
    "class_set = class_set.values.ravel() \n",
    "test_class_set = test_class_set.values.ravel()"
   ]
  },
  {
   "cell_type": "code",
   "execution_count": 7,
   "metadata": {
    "execution": {
     "iopub.execute_input": "2021-02-16T20:36:56.114667Z",
     "iopub.status.busy": "2021-02-16T20:36:56.113968Z",
     "iopub.status.idle": "2021-02-16T20:36:56.116439Z",
     "shell.execute_reply": "2021-02-16T20:36:56.117115Z"
    },
    "id": "s-6wvJKoPok7",
    "papermill": {
     "duration": 0.050576,
     "end_time": "2021-02-16T20:36:56.117301",
     "exception": false,
     "start_time": "2021-02-16T20:36:56.066725",
     "status": "completed"
    },
    "tags": []
   },
   "outputs": [],
   "source": [
    "# instantiate classifier \n",
    "rf_classifier = RandomForestClassifier(random_state=42, n_estimators=10)"
   ]
  },
  {
   "cell_type": "code",
   "execution_count": 8,
   "metadata": {
    "execution": {
     "iopub.execute_input": "2021-02-16T20:36:56.206472Z",
     "iopub.status.busy": "2021-02-16T20:36:56.205821Z",
     "iopub.status.idle": "2021-02-16T20:37:02.243327Z",
     "shell.execute_reply": "2021-02-16T20:37:02.241482Z"
    },
    "id": "TmunnEM3Py5b",
    "outputId": "9bf33a77-1ac0-4b3d-9900-be28837086f6",
    "papermill": {
     "duration": 6.083201,
     "end_time": "2021-02-16T20:37:02.243553",
     "exception": false,
     "start_time": "2021-02-16T20:36:56.160352",
     "status": "completed"
    },
    "tags": []
   },
   "outputs": [
    {
     "name": "stdout",
     "output_type": "stream",
     "text": [
      "Best Parameters using grid search: \n",
      " {'bootstrap': True, 'criterion': 'entropy', 'max_depth': 4, 'max_features': None}\n",
      "Time taken in grid search:  6.02\n"
     ]
    }
   ],
   "source": [
    "np.random.seed(42)\n",
    "start = time.time()\n",
    "\n",
    "# give to GridSearchCV\n",
    "param_dist = {'max_depth': [2, 3, 4],\n",
    "              'bootstrap': [True, False],\n",
    "              'max_features': ['auto', 'sqrt', 'log2', None],\n",
    "              'criterion': ['gini', 'entropy']}\n",
    "\n",
    "# set up the GridSearch\n",
    "cv_rf = GridSearchCV(rf_classifier, cv = 5,\n",
    "                     param_grid=param_dist, \n",
    "                     n_jobs = 3)\n",
    "\n",
    "# fit the GridSearch\n",
    "cv_rf.fit(training_set, class_set)\n",
    "print('Best Parameters using grid search: \\n', cv_rf.best_params_)\n",
    "\n",
    "\n",
    "end = time.time()\n",
    "print('Time taken in grid search: {0: .2f}'.format(end - start))"
   ]
  },
  {
   "cell_type": "code",
   "execution_count": 9,
   "metadata": {
    "execution": {
     "iopub.execute_input": "2021-02-16T20:37:02.335594Z",
     "iopub.status.busy": "2021-02-16T20:37:02.334501Z",
     "iopub.status.idle": "2021-02-16T20:37:02.343551Z",
     "shell.execute_reply": "2021-02-16T20:37:02.342837Z"
    },
    "id": "62ELn6buQo3t",
    "outputId": "c8ed167b-9785-45a3-aaed-4ce28abefa0a",
    "papermill": {
     "duration": 0.05801,
     "end_time": "2021-02-16T20:37:02.343718",
     "exception": false,
     "start_time": "2021-02-16T20:37:02.285708",
     "status": "completed"
    },
    "tags": []
   },
   "outputs": [
    {
     "data": {
      "text/plain": [
       "RandomForestClassifier(max_depth=3, max_features='log2', n_estimators=10,\n",
       "                       random_state=42)"
      ]
     },
     "execution_count": 9,
     "metadata": {},
     "output_type": "execute_result"
    }
   ],
   "source": [
    "# Set best parameters given by grid search \n",
    "rf_classifier.set_params(criterion = 'gini',\n",
    "                  max_features = 'log2', \n",
    "                  max_depth = 3, \n",
    "                  )"
   ]
  },
  {
   "cell_type": "code",
   "execution_count": 10,
   "metadata": {
    "execution": {
     "iopub.execute_input": "2021-02-16T20:37:02.450287Z",
     "iopub.status.busy": "2021-02-16T20:37:02.449609Z",
     "iopub.status.idle": "2021-02-16T20:38:11.065639Z",
     "shell.execute_reply": "2021-02-16T20:38:11.064972Z"
    },
    "id": "dHkQx6hfRMgu",
    "papermill": {
     "duration": 68.679674,
     "end_time": "2021-02-16T20:38:11.065847",
     "exception": false,
     "start_time": "2021-02-16T20:37:02.386173",
     "status": "completed"
    },
    "tags": []
   },
   "outputs": [],
   "source": [
    "# warm_start = True reuse the solution of the previous call to fit \n",
    "# and add more estimators to the ensemble, otherwise, just fit a whole new forest.\n",
    "\n",
    "rf_classifier.set_params(warm_start=True, \n",
    "                  oob_score=True)\n",
    "\n",
    "# found this from sci-kit learn https://scikit-learn.org/stable/auto_examples/ensemble/plot_ensemble_oob.html\n",
    "min_estimators = 15\n",
    "max_estimators = 500\n",
    "\n",
    "error_rate = {}\n",
    "\n",
    "for i in range(min_estimators, max_estimators + 1):\n",
    "    rf_classifier.set_params(n_estimators=i)\n",
    "    rf_classifier.fit(training_set, class_set)\n",
    "\n",
    "    oob_error = 1 - rf_classifier.oob_score_\n",
    "    error_rate[i] = oob_error"
   ]
  },
  {
   "cell_type": "code",
   "execution_count": 11,
   "metadata": {
    "execution": {
     "iopub.execute_input": "2021-02-16T20:38:11.168587Z",
     "iopub.status.busy": "2021-02-16T20:38:11.167373Z",
     "iopub.status.idle": "2021-02-16T20:38:11.172899Z",
     "shell.execute_reply": "2021-02-16T20:38:11.172071Z"
    },
    "id": "XpTTuMDhRa79",
    "papermill": {
     "duration": 0.061359,
     "end_time": "2021-02-16T20:38:11.173110",
     "exception": false,
     "start_time": "2021-02-16T20:38:11.111751",
     "status": "completed"
    },
    "tags": []
   },
   "outputs": [],
   "source": [
    "# Convert dictionary to a pandas series for easy plotting \n",
    "oob_series = pd.Series(error_rate)"
   ]
  },
  {
   "cell_type": "code",
   "execution_count": 12,
   "metadata": {
    "execution": {
     "iopub.execute_input": "2021-02-16T20:38:11.295195Z",
     "iopub.status.busy": "2021-02-16T20:38:11.290462Z",
     "iopub.status.idle": "2021-02-16T20:38:11.577080Z",
     "shell.execute_reply": "2021-02-16T20:38:11.576188Z"
    },
    "id": "i_JIhDcOReVl",
    "outputId": "e4bd2d2d-9180-4113-a0e8-10fdf4149dfd",
    "papermill": {
     "duration": 0.353497,
     "end_time": "2021-02-16T20:38:11.577244",
     "exception": false,
     "start_time": "2021-02-16T20:38:11.223747",
     "status": "completed"
    },
    "tags": []
   },
   "outputs": [
    {
     "data": {
      "text/plain": [
       "Text(0.5, 1.0, 'OOB Error Rate Across various Forest sizes \\n(From 15 to 1000 trees)')"
      ]
     },
     "execution_count": 12,
     "metadata": {},
     "output_type": "execute_result"
    },
    {
     "data": {
      "image/png": "[encoded data removed]",
      "text/plain": [
       "<Figure size 720x720 with 1 Axes>"
      ]
     },
     "metadata": {},
     "output_type": "display_data"
    }
   ],
   "source": [
    "# Plotting the OOB_scores line graph: oob_error vs. n_estimators\n",
    "fig, ax = plt.subplots(figsize=(10, 10))\n",
    "\n",
    "ax.set_facecolor('#fafafa')\n",
    "\n",
    "oob_series.plot(kind='line',\n",
    "                color = 'blue')\n",
    "plt.axhline(0.055, \n",
    "            color='#875FDB',\n",
    "           linestyle='--')\n",
    "plt.axhline(0.05, \n",
    "            color='#875FDB',\n",
    "           linestyle='--')\n",
    "plt.xlabel('n_estimators')\n",
    "plt.ylabel('OOB Error Rate')\n",
    "plt.title('OOB Error Rate Across various Forest sizes \\n(From 15 to 1000 trees)')"
   ]
  },
  {
   "cell_type": "markdown",
   "metadata": {
    "id": "pq0yqAOpKVEe",
    "papermill": {
     "duration": 0.047223,
     "end_time": "2021-02-16T20:38:11.669659",
     "exception": false,
     "start_time": "2021-02-16T20:38:11.622436",
     "status": "completed"
    },
    "tags": []
   },
   "source": [
    "I ended up testing and choosing values 400-430 for the number of estimators. This is where the error fluctuate last, near 0.0500. "
   ]
  },
  {
   "cell_type": "code",
   "execution_count": 13,
   "metadata": {
    "execution": {
     "iopub.execute_input": "2021-02-16T20:38:11.770233Z",
     "iopub.status.busy": "2021-02-16T20:38:11.769078Z",
     "iopub.status.idle": "2021-02-16T20:38:11.774990Z",
     "shell.execute_reply": "2021-02-16T20:38:11.774293Z"
    },
    "id": "dpsZUHdha4DD",
    "outputId": "8c53a905-27f3-4697-86d8-4db26c3c0173",
    "papermill": {
     "duration": 0.059476,
     "end_time": "2021-02-16T20:38:11.775154",
     "exception": false,
     "start_time": "2021-02-16T20:38:11.715678",
     "status": "completed"
    },
    "tags": []
   },
   "outputs": [
    {
     "data": {
      "text/plain": [
       "RandomForestClassifier(max_depth=3, max_features='log2', n_estimators=420,\n",
       "                       random_state=42)"
      ]
     },
     "execution_count": 13,
     "metadata": {},
     "output_type": "execute_result"
    }
   ],
   "source": [
    "# set the estimators so we can proceed to fitting the rf_classifier turning warm start and oob_score to False\n",
    "rf_classifier.set_params(n_estimators=420,\n",
    "                  bootstrap = True,\n",
    "                  warm_start=False, \n",
    "                  oob_score=False)"
   ]
  },
  {
   "cell_type": "code",
   "execution_count": 14,
   "metadata": {
    "execution": {
     "iopub.execute_input": "2021-02-16T20:38:11.905537Z",
     "iopub.status.busy": "2021-02-16T20:38:11.894749Z",
     "iopub.status.idle": "2021-02-16T20:38:12.824406Z",
     "shell.execute_reply": "2021-02-16T20:38:12.823824Z"
    },
    "id": "XB-IqgWebAEW",
    "outputId": "5ea36d1f-170b-4d61-bd97-a6f5252e3ebd",
    "papermill": {
     "duration": 1.005223,
     "end_time": "2021-02-16T20:38:12.824607",
     "exception": false,
     "start_time": "2021-02-16T20:38:11.819384",
     "status": "completed"
    },
    "tags": []
   },
   "outputs": [
    {
     "data": {
      "text/plain": [
       "RandomForestClassifier(max_depth=3, max_features='log2', n_estimators=420,\n",
       "                       random_state=42)"
      ]
     },
     "execution_count": 14,
     "metadata": {},
     "output_type": "execute_result"
    }
   ],
   "source": [
    "# fit the Random forest to the training data\n",
    "rf_classifier.fit(training_set, class_set)"
   ]
  },
  {
   "cell_type": "code",
   "execution_count": 15,
   "metadata": {
    "execution": {
     "iopub.execute_input": "2021-02-16T20:38:12.924323Z",
     "iopub.status.busy": "2021-02-16T20:38:12.923467Z",
     "iopub.status.idle": "2021-02-16T20:38:12.927188Z",
     "shell.execute_reply": "2021-02-16T20:38:12.926683Z"
    },
    "id": "-PZpFRHxLAmL",
    "papermill": {
     "duration": 0.056782,
     "end_time": "2021-02-16T20:38:12.927476",
     "exception": false,
     "start_time": "2021-02-16T20:38:12.870694",
     "status": "completed"
    },
    "tags": []
   },
   "outputs": [],
   "source": [
    "# returns a dict with value pairs {importance: indices} for printing\n",
    "def variable_importance(fit):\n",
    "    try:\n",
    "        # Checks whether first parameter is a model\n",
    "        if not hasattr(fit, 'fit'):\n",
    "            return print(\"'{0}' is not an instantiated model from scikit-learn\".format(fit)) \n",
    "\n",
    "        # Checks whether model has been trained\n",
    "        if not vars(fit)[\"estimators_\"]:\n",
    "            return print(\"Model does not appear to be trained.\")\n",
    "    except KeyError:\n",
    "        print(\"Model entered does not contain 'estimators_' attribute.\")\n",
    "\n",
    "    importances = fit.feature_importances_\n",
    "    # sort from most import to least\n",
    "    indices = np.argsort(importances)[::-1]\n",
    "    return {'importance': importances,\n",
    "            'index': indices}"
   ]
  },
  {
   "cell_type": "code",
   "execution_count": 16,
   "metadata": {
    "execution": {
     "iopub.execute_input": "2021-02-16T20:38:13.060890Z",
     "iopub.status.busy": "2021-02-16T20:38:13.042789Z",
     "iopub.status.idle": "2021-02-16T20:38:13.068648Z",
     "shell.execute_reply": "2021-02-16T20:38:13.067893Z"
    },
    "id": "B04ITui5MQ-O",
    "papermill": {
     "duration": 0.09562,
     "end_time": "2021-02-16T20:38:13.068811",
     "exception": false,
     "start_time": "2021-02-16T20:38:12.973191",
     "status": "completed"
    },
    "tags": []
   },
   "outputs": [],
   "source": [
    "# get variable importance and their indexes\n",
    "rf_var_imp = variable_importance(rf_classifier)\n",
    "\n",
    "rf_importances = rf_var_imp['importance']\n",
    "\n",
    "rf_indices = rf_var_imp['index']"
   ]
  },
  {
   "cell_type": "code",
   "execution_count": 17,
   "metadata": {
    "execution": {
     "iopub.execute_input": "2021-02-16T20:38:13.169157Z",
     "iopub.status.busy": "2021-02-16T20:38:13.168445Z",
     "iopub.status.idle": "2021-02-16T20:38:13.172267Z",
     "shell.execute_reply": "2021-02-16T20:38:13.171667Z"
    },
    "id": "ijNTdbepMUNs",
    "papermill": {
     "duration": 0.056718,
     "end_time": "2021-02-16T20:38:13.172432",
     "exception": false,
     "start_time": "2021-02-16T20:38:13.115714",
     "status": "completed"
    },
    "tags": []
   },
   "outputs": [],
   "source": [
    "# unpacks and prints values in importance dict according to the index \n",
    "def print_var_importance(importance, indices, name_index):\n",
    "    print(\"Feature ranking:\")\n",
    "    # iterate thru variable indices\n",
    "    for f in range(0, indices.shape[0]):\n",
    "        i = f\n",
    "        # prints the name of the feature and its importance metric \n",
    "        print(\"{0}. The feature '{1}' has a Mean Decrease in Impurity of {2:.5f}\"\n",
    "              .format(f + 1, names_index[indices[i]], importance[indices[f]]))"
   ]
  },
  {
   "cell_type": "code",
   "execution_count": 18,
   "metadata": {
    "execution": {
     "iopub.execute_input": "2021-02-16T20:38:13.272231Z",
     "iopub.status.busy": "2021-02-16T20:38:13.271120Z",
     "iopub.status.idle": "2021-02-16T20:38:13.276723Z",
     "shell.execute_reply": "2021-02-16T20:38:13.277303Z"
    },
    "id": "dYg-zYk1M2jW",
    "outputId": "33bee6fc-60d9-4d41-fbaa-25a802648e3a",
    "papermill": {
     "duration": 0.059431,
     "end_time": "2021-02-16T20:38:13.277630",
     "exception": false,
     "start_time": "2021-02-16T20:38:13.218199",
     "status": "completed"
    },
    "tags": []
   },
   "outputs": [
    {
     "name": "stdout",
     "output_type": "stream",
     "text": [
      "Feature ranking:\n",
      "1. The feature 'area_worst' has a Mean Decrease in Impurity of 0.12769\n",
      "2. The feature 'concave_points_worst' has a Mean Decrease in Impurity of 0.12202\n",
      "3. The feature 'perimeter_worst' has a Mean Decrease in Impurity of 0.12197\n",
      "4. The feature 'concave_points_mean' has a Mean Decrease in Impurity of 0.09623\n",
      "5. The feature 'radius_worst' has a Mean Decrease in Impurity of 0.07696\n",
      "6. The feature 'concavity_mean' has a Mean Decrease in Impurity of 0.06092\n",
      "7. The feature 'area_mean' has a Mean Decrease in Impurity of 0.05814\n",
      "8. The feature 'radius_mean' has a Mean Decrease in Impurity of 0.05507\n",
      "9. The feature 'perimeter_mean' has a Mean Decrease in Impurity of 0.05026\n",
      "10. The feature 'area_se' has a Mean Decrease in Impurity of 0.04166\n",
      "11. The feature 'concavity_worst' has a Mean Decrease in Impurity of 0.03920\n",
      "12. The feature 'compactness_worst' has a Mean Decrease in Impurity of 0.02092\n",
      "13. The feature 'texture_worst' has a Mean Decrease in Impurity of 0.01663\n",
      "14. The feature 'compactness_mean' has a Mean Decrease in Impurity of 0.01543\n",
      "15. The feature 'radius_se' has a Mean Decrease in Impurity of 0.01536\n",
      "16. The feature 'perimeter_se' has a Mean Decrease in Impurity of 0.01257\n",
      "17. The feature 'symmetry_worst' has a Mean Decrease in Impurity of 0.01209\n",
      "18. The feature 'texture_mean' has a Mean Decrease in Impurity of 0.01185\n",
      "19. The feature 'smoothness_worst' has a Mean Decrease in Impurity of 0.01009\n",
      "20. The feature 'concavity_se' has a Mean Decrease in Impurity of 0.00898\n",
      "21. The feature 'concave_points_se' has a Mean Decrease in Impurity of 0.00427\n",
      "22. The feature 'smoothness_mean' has a Mean Decrease in Impurity of 0.00396\n",
      "23. The feature 'fractal_dimension_se' has a Mean Decrease in Impurity of 0.00392\n",
      "24. The feature 'fractal_dimension_worst' has a Mean Decrease in Impurity of 0.00270\n",
      "25. The feature 'fractal_dimension_mean' has a Mean Decrease in Impurity of 0.00224\n",
      "26. The feature 'smoothness_se' has a Mean Decrease in Impurity of 0.00210\n",
      "27. The feature 'symmetry_mean' has a Mean Decrease in Impurity of 0.00201\n",
      "28. The feature 'texture_se' has a Mean Decrease in Impurity of 0.00197\n",
      "29. The feature 'symmetry_se' has a Mean Decrease in Impurity of 0.00184\n",
      "30. The feature 'compactness_se' has a Mean Decrease in Impurity of 0.00094\n"
     ]
    }
   ],
   "source": [
    "# get the classes uses to train this model\n",
    "names_index = names[2:]\n",
    "\n",
    "# print out classes by importance in decending order\n",
    "print_var_importance(rf_importances, rf_indices, names_index)"
   ]
  },
  {
   "cell_type": "code",
   "execution_count": 19,
   "metadata": {
    "execution": {
     "iopub.execute_input": "2021-02-16T20:38:13.382269Z",
     "iopub.status.busy": "2021-02-16T20:38:13.381548Z",
     "iopub.status.idle": "2021-02-16T20:38:13.385915Z",
     "shell.execute_reply": "2021-02-16T20:38:13.385334Z"
    },
    "id": "ylVQE5kxNHUK",
    "papermill": {
     "duration": 0.060104,
     "end_time": "2021-02-16T20:38:13.386082",
     "exception": false,
     "start_time": "2021-02-16T20:38:13.325978",
     "status": "completed"
    },
    "tags": []
   },
   "outputs": [],
   "source": [
    "# Make a horizontal bar chart to visualize feature importantance\n",
    "\n",
    "def variable_importance_plot(importance, indices, name_index):\n",
    "    index = np.arange(len(names_index))\n",
    "\n",
    "    importance_desc = sorted(importance)\n",
    "\n",
    "    feature_space = []\n",
    "\n",
    "    for i in range(indices.shape[0] - 1, -1, -1):\n",
    "        feature_space.append(names_index[indices[i]])\n",
    "\n",
    "    fig, ax = plt.subplots(figsize=(10, 10))\n",
    "\n",
    "    plt.title('Feature importances for Random Forest Model\\\\nBreast Cancer (Diagnostic)')\n",
    "    \n",
    "    plt.barh(index,\n",
    "              importance_desc,\n",
    "              align=\"center\",\n",
    "              color = '#FFB6C1')\n",
    "    plt.yticks(index,\n",
    "                feature_space)\n",
    "\n",
    "    plt.ylim(-1, 30)\n",
    "    plt.xlim(0, max(importance_desc) + 0.01)\n",
    "    plt.xlabel('Mean Decrease in Impurity')\n",
    "    plt.ylabel('Feature')\n",
    "\n",
    "    plt.show()\n",
    "    plt.close()"
   ]
  },
  {
   "cell_type": "code",
   "execution_count": 20,
   "metadata": {
    "execution": {
     "iopub.execute_input": "2021-02-16T20:38:13.500746Z",
     "iopub.status.busy": "2021-02-16T20:38:13.500021Z",
     "iopub.status.idle": "2021-02-16T20:38:13.920879Z",
     "shell.execute_reply": "2021-02-16T20:38:13.920211Z"
    },
    "id": "xVyZxILMNT8S",
    "outputId": "e055037d-6b03-47d9-eb52-520eac27d438",
    "papermill": {
     "duration": 0.488729,
     "end_time": "2021-02-16T20:38:13.921065",
     "exception": false,
     "start_time": "2021-02-16T20:38:13.432336",
     "status": "completed"
    },
    "tags": []
   },
   "outputs": [
    {
     "data": {
      "image/png": "[encoded data removed]",
      "text/plain": [
       "<Figure size 720x720 with 1 Axes>"
      ]
     },
     "metadata": {},
     "output_type": "display_data"
    }
   ],
   "source": [
    "variable_importance_plot(rf_importances, rf_indices, names_index)"
   ]
  },
  {
   "cell_type": "code",
   "execution_count": 21,
   "metadata": {
    "execution": {
     "iopub.execute_input": "2021-02-16T20:38:14.032967Z",
     "iopub.status.busy": "2021-02-16T20:38:14.032228Z",
     "iopub.status.idle": "2021-02-16T20:38:14.036878Z",
     "shell.execute_reply": "2021-02-16T20:38:14.036149Z"
    },
    "id": "8x1SSOHBQ-Nz",
    "papermill": {
     "duration": 0.066685,
     "end_time": "2021-02-16T20:38:14.037056",
     "exception": false,
     "start_time": "2021-02-16T20:38:13.970371",
     "status": "completed"
    },
    "tags": []
   },
   "outputs": [],
   "source": [
    "# Perform Cross_validation to see how robust our model is \n",
    "import time\n",
    "\n",
    "def cross_val_metrics(fit, training_set, class_set, estimator, print_results = True):\n",
    "    start = time.time()\n",
    "    \"\"\"\n",
    "    Returns Mean Accurancy with standard_dev of model over Kfolds Validation\n",
    "    ----------\n",
    "    scores.mean(): Float representing cross validation score\n",
    "    scores.std() / 2: Float representing the standard error (derived\n",
    "                from cross validation score's standard deviation)\n",
    "    \"\"\"\n",
    "    my_estimators = {\n",
    "    'rf': 'estimators_',\n",
    "    'nn': 'out_activation_',\n",
    "    'knn': '_fit_method'\n",
    "    }\n",
    "    try:\n",
    "        # Checks whether first parameter is a model\n",
    "        if not hasattr(fit, 'fit'):\n",
    "            return print(\"'{0}' is not an instantiated model from scikit-learn\".format(fit)) \n",
    "\n",
    "        # Checks whether the model has been trained\n",
    "        if not vars(fit)[my_estimators[estimator]]:\n",
    "            return print(\"Model does not appear to be trained.\")\n",
    "\n",
    "    except KeyError as e:\n",
    "        print(\"'{0}' does not correspond with the appropriate key inside the estimators dictionary. \\\n",
    "              \\nPlease refer to function to check `my_estimators` dictionary.\".format(estimator))\n",
    "        raise\n",
    "\n",
    "    # create KFolds validation\n",
    "    n = KFold(n_splits=10)\n",
    "\n",
    "    # record score for each split\n",
    "    scores = cross_val_score(fit, \n",
    "                         training_set, \n",
    "                         class_set, \n",
    "                         cv = n)\n",
    "    end = time.time() \n",
    "    # print how much time the Kfolds took\n",
    "    print(\"Time elapsed to do Cross Validation: {0:.2f} seconds.\".format(end-start))\n",
    "    if print_results:\n",
    "        for i in range(0, len(scores)):\n",
    "            # print out the scores for each validation split\n",
    "            print(\"Cross validation run {0}: {1: 0.3f}\".format(i, scores[i]))\n",
    "\n",
    "        print(\"Accuracy: {0: 0.3f} (+/- {1: 0.3f})\".format(scores.mean(), scores.std() / 2))     \n",
    "    else:\n",
    "        return scores.mean(), scores.std() / 2"
   ]
  },
  {
   "cell_type": "code",
   "execution_count": 22,
   "metadata": {
    "execution": {
     "iopub.execute_input": "2021-02-16T20:38:14.147209Z",
     "iopub.status.busy": "2021-02-16T20:38:14.146155Z",
     "iopub.status.idle": "2021-02-16T20:38:23.608225Z",
     "shell.execute_reply": "2021-02-16T20:38:23.606236Z"
    },
    "id": "yXBuoBGYRqb3",
    "papermill": {
     "duration": 9.521573,
     "end_time": "2021-02-16T20:38:23.608480",
     "exception": false,
     "start_time": "2021-02-16T20:38:14.086907",
     "status": "completed"
    },
    "tags": []
   },
   "outputs": [
    {
     "name": "stdout",
     "output_type": "stream",
     "text": [
      "Time elapsed to do Cross Validation: 9.46 seconds.\n",
      "Cross validation run 0:  1.000\n",
      "Cross validation run 1:  0.957\n",
      "Cross validation run 2:  0.935\n",
      "Cross validation run 3:  0.935\n",
      "Cross validation run 4:  0.957\n",
      "Cross validation run 5:  0.978\n",
      "Cross validation run 6:  0.933\n",
      "Cross validation run 7:  0.889\n",
      "Cross validation run 8:  1.000\n",
      "Cross validation run 9:  0.889\n",
      "Accuracy:  0.947 (+/-  0.019)\n"
     ]
    }
   ],
   "source": [
    "# call cross_val_metrics to see how our model did\n",
    "cross_val_metrics(rf_classifier, \n",
    "                  training_set, \n",
    "                  class_set, \n",
    "                  'rf',\n",
    "                  print_results = True)"
   ]
  },
  {
   "cell_type": "code",
   "execution_count": 23,
   "metadata": {
    "execution": {
     "iopub.execute_input": "2021-02-16T20:38:23.722152Z",
     "iopub.status.busy": "2021-02-16T20:38:23.718636Z",
     "iopub.status.idle": "2021-02-16T20:38:23.763737Z",
     "shell.execute_reply": "2021-02-16T20:38:23.762996Z"
    },
    "id": "jdbXWI_nR5JX",
    "papermill": {
     "duration": 0.102999,
     "end_time": "2021-02-16T20:38:23.763943",
     "exception": false,
     "start_time": "2021-02-16T20:38:23.660944",
     "status": "completed"
    },
    "tags": []
   },
   "outputs": [],
   "source": [
    "# make a prediction on test set now that the model has been tuned and validated\n",
    "rf_predictions = rf_classifier.predict(test_set)"
   ]
  },
  {
   "cell_type": "code",
   "execution_count": 24,
   "metadata": {
    "execution": {
     "iopub.execute_input": "2021-02-16T20:38:23.878645Z",
     "iopub.status.busy": "2021-02-16T20:38:23.877477Z",
     "iopub.status.idle": "2021-02-16T20:38:23.881467Z",
     "shell.execute_reply": "2021-02-16T20:38:23.880739Z"
    },
    "id": "cy09Mj_oR6DO",
    "papermill": {
     "duration": 0.065235,
     "end_time": "2021-02-16T20:38:23.881639",
     "exception": false,
     "start_time": "2021-02-16T20:38:23.816404",
     "status": "completed"
    },
    "tags": []
   },
   "outputs": [],
   "source": [
    "\n",
    "def create_conf_mat(test_class_set, predictions):\n",
    "    \"\"\"Function returns confusion matrix comparing two arrays\"\"\"\n",
    "    if (len(test_class_set.shape) != len(predictions.shape) == 1):\n",
    "        return print('Arrays entered are not 1-D.\\nPlease enter the correctly sized sets.')\n",
    "    elif (test_class_set.shape != predictions.shape):\n",
    "        return print('Number of values inside the Arrays are not equal to each other.\\nPlease make sure the array has the same number of instances.')\n",
    "    else:\n",
    "        # Set Metrics; Compute a simple cross tabulation of two (or more) factors. \n",
    "        # By default computes a frequency table of the factors unless an array of values and an aggregation function are passed.\n",
    "        test_crosstb_comp = pd.crosstab(index = test_class_set,\n",
    "                                        columns = predictions)\n",
    "        # Changed for Future deprecation of as_matrix\n",
    "        test_crosstb = test_crosstb_comp.values\n",
    "        return test_crosstb"
   ]
  },
  {
   "cell_type": "code",
   "execution_count": 25,
   "metadata": {
    "execution": {
     "iopub.execute_input": "2021-02-16T20:38:24.001106Z",
     "iopub.status.busy": "2021-02-16T20:38:24.000219Z",
     "iopub.status.idle": "2021-02-16T20:38:24.139662Z",
     "shell.execute_reply": "2021-02-16T20:38:24.138868Z"
    },
    "id": "YlAl2XUMR-9J",
    "outputId": "5fc50522-d7b4-41e4-8150-14fa4e2dcdff",
    "papermill": {
     "duration": 0.206761,
     "end_time": "2021-02-16T20:38:24.139830",
     "exception": false,
     "start_time": "2021-02-16T20:38:23.933069",
     "status": "completed"
    },
    "tags": []
   },
   "outputs": [
    {
     "data": {
      "image/png": "[encoded data removed]",
      "text/plain": [
       "<Figure size 432x288 with 1 Axes>"
      ]
     },
     "metadata": {},
     "output_type": "display_data"
    }
   ],
   "source": [
    "conf_mat = create_conf_mat(test_class_set, rf_predictions)\n",
    "\n",
    "# use seaborn heatmap\n",
    "sns.heatmap(conf_mat, annot=True, fmt='d', cbar=False)\n",
    "plt.xlabel('Predicted Values')\n",
    "plt.ylabel('Actual Values')\n",
    "plt.title('Actual vs. Predicted Confusion Matrix')\n",
    "plt.show()"
   ]
  },
  {
   "cell_type": "code",
   "execution_count": 26,
   "metadata": {
    "execution": {
     "iopub.execute_input": "2021-02-16T20:38:24.254075Z",
     "iopub.status.busy": "2021-02-16T20:38:24.253383Z",
     "iopub.status.idle": "2021-02-16T20:38:24.296739Z",
     "shell.execute_reply": "2021-02-16T20:38:24.297497Z"
    },
    "id": "y4w6DRkRSBLD",
    "outputId": "cc5412e4-aeeb-446b-c72e-28db1388d939",
    "papermill": {
     "duration": 0.106987,
     "end_time": "2021-02-16T20:38:24.297783",
     "exception": false,
     "start_time": "2021-02-16T20:38:24.190796",
     "status": "completed"
    },
    "tags": []
   },
   "outputs": [
    {
     "name": "stdout",
     "output_type": "stream",
     "text": [
      "Here is our mean accuracy on the test set:\n",
      " 0.965\n"
     ]
    }
   ],
   "source": [
    "# use built in score function to get accurancy of this model against the test set\n",
    "rf_accuracy = rf_classifier.score(test_set, test_class_set)\n",
    "\n",
    "print(\"Here is our mean accuracy on the test set:\\n {0:.3f}\"\\\n",
    "      .format(rf_accuracy))"
   ]
  },
  {
   "cell_type": "code",
   "execution_count": 27,
   "metadata": {
    "execution": {
     "iopub.execute_input": "2021-02-16T20:38:24.403838Z",
     "iopub.status.busy": "2021-02-16T20:38:24.403172Z",
     "iopub.status.idle": "2021-02-16T20:38:24.410822Z",
     "shell.execute_reply": "2021-02-16T20:38:24.410270Z"
    },
    "id": "Ko9YMosrSDge",
    "papermill": {
     "duration": 0.061674,
     "end_time": "2021-02-16T20:38:24.410981",
     "exception": false,
     "start_time": "2021-02-16T20:38:24.349307",
     "status": "completed"
    },
    "tags": []
   },
   "outputs": [
    {
     "name": "stdout",
     "output_type": "stream",
     "text": [
      "The test error rate for our model is:\n",
      "  0.0351\n"
     ]
    }
   ],
   "source": [
    "# Here we calculate the test error rate!\n",
    "rf_test_error_rate = 1 - rf_accuracy\n",
    "print(\"The test error rate for our model is:\\n {0: .4f}\"\\\n",
    "      .format(rf_test_error_rate))"
   ]
  },
  {
   "cell_type": "code",
   "execution_count": 28,
   "metadata": {
    "execution": {
     "iopub.execute_input": "2021-02-16T20:38:24.633234Z",
     "iopub.status.busy": "2021-02-16T20:38:24.632357Z",
     "iopub.status.idle": "2021-02-16T20:38:24.698914Z",
     "shell.execute_reply": "2021-02-16T20:38:24.698039Z"
    },
    "id": "EPGPhhCcAYn0",
    "outputId": "efb4c8d7-93b0-4493-a2ef-6452c91914a6",
    "papermill": {
     "duration": 0.129348,
     "end_time": "2021-02-16T20:38:24.699105",
     "exception": false,
     "start_time": "2021-02-16T20:38:24.569757",
     "status": "completed"
    },
    "tags": []
   },
   "outputs": [
    {
     "name": "stdout",
     "output_type": "stream",
     "text": [
      "0.9963969865705863\n"
     ]
    }
   ],
   "source": [
    "# predict_proba returns two arrays that represent the predicted_prob of negative class and positive class respectively.\n",
    "\n",
    "# I just want to take the positive classes in this instance\n",
    "predictions_prob = rf_classifier.predict_proba(test_set)[:, 1]\n",
    "\n",
    "# use roc_curve to produce \n",
    "fpr2, tpr2, _ = roc_curve(test_class_set,\n",
    "                          predictions_prob,\n",
    "                          pos_label = 1)\n",
    "\n",
    "auc_rf = auc(fpr2, tpr2)\n",
    "\n",
    "print(auc_rf)"
   ]
  },
  {
   "cell_type": "code",
   "execution_count": 29,
   "metadata": {
    "execution": {
     "iopub.execute_input": "2021-02-16T20:38:24.842339Z",
     "iopub.status.busy": "2021-02-16T20:38:24.841250Z",
     "iopub.status.idle": "2021-02-16T20:38:24.849052Z",
     "shell.execute_reply": "2021-02-16T20:38:24.849589Z"
    },
    "id": "tjMIvl6hAbs1",
    "papermill": {
     "duration": 0.082226,
     "end_time": "2021-02-16T20:38:24.849776",
     "exception": false,
     "start_time": "2021-02-16T20:38:24.767550",
     "status": "completed"
    },
    "tags": []
   },
   "outputs": [],
   "source": [
    "def plot_roc_curve(fpr, tpr, auc, estimator, xlim=None, ylim=None):\n",
    "    \"\"\"\n",
    "    Purpose\n",
    "    ----------\n",
    "    Function creates ROC Curve for respective model given selected parameters.\n",
    "    Optional x and y limits to zoom into graph\n",
    "\n",
    "    Parameters\n",
    "    ----------\n",
    "    * fpr: Array returned from sklearn.metrics.roc_curve for increasing\n",
    "            false positive rates\n",
    "    * tpr: Array returned from sklearn.metrics.roc_curve for increasing\n",
    "            true positive rates\n",
    "    * auc: Float returned from sklearn.metrics.auc (Area under Curve)\n",
    "    * estimator: String represenation of appropriate model, can only contain the\n",
    "    following: ['knn', 'rf', 'nn']\n",
    "    * xlim: Set upper and lower x-limits\n",
    "    * ylim: Set upper and lower y-limits\n",
    "    \"\"\"\n",
    "    my_estimators = {'knn': ['Kth Nearest Neighbor', 'deeppink'],\n",
    "              'rf': ['Random Forest', 'red'],\n",
    "              'nn': ['Neural Network', 'purple']}\n",
    "\n",
    "    try:\n",
    "        plot_title = my_estimators[estimator][0]\n",
    "        color_value = my_estimators[estimator][1]\n",
    "    except KeyError as e:\n",
    "        print(\"'{0}' does not correspond with the appropriate key inside the estimators dictionary. \\\n",
    "\\nPlease refer to function to check `my_estimators` dictionary.\".format(estimator))\n",
    "        raise\n",
    "\n",
    "    fig, ax = plt.subplots(figsize=(10, 10))\n",
    "    ax.set_facecolor('#fafafa')\n",
    "\n",
    "    plt.plot(fpr, tpr,\n",
    "             color=color_value,\n",
    "             linewidth=1)\n",
    "    plt.title('ROC Curve For {0} (AUC = {1: 0.3f})'\\\n",
    "              .format(plot_title, auc))\n",
    "\n",
    "    plt.plot([0, 1], [0, 1], 'k--', lw=2) # Add Diagonal line\n",
    "    plt.plot([0, 0], [1, 0], 'k--', lw=2, color = 'black')\n",
    "    plt.plot([1, 0], [1, 1], 'k--', lw=2, color = 'black')\n",
    "    if xlim is not None:\n",
    "        plt.xlim(*xlim)\n",
    "    if ylim is not None:\n",
    "        plt.ylim(*ylim)\n",
    "    plt.xlabel('False Positive Rate')\n",
    "    plt.ylabel('True Positive Rate')\n",
    "    plt.show()\n",
    "    plt.close()"
   ]
  },
  {
   "cell_type": "code",
   "execution_count": 30,
   "metadata": {
    "execution": {
     "iopub.execute_input": "2021-02-16T20:38:24.964951Z",
     "iopub.status.busy": "2021-02-16T20:38:24.963914Z",
     "iopub.status.idle": "2021-02-16T20:38:25.154934Z",
     "shell.execute_reply": "2021-02-16T20:38:25.155594Z"
    },
    "id": "UghllWyhAhWi",
    "outputId": "fdd3f60a-e331-4d19-f906-077c33fc0f83",
    "papermill": {
     "duration": 0.250389,
     "end_time": "2021-02-16T20:38:25.155806",
     "exception": false,
     "start_time": "2021-02-16T20:38:24.905417",
     "status": "completed"
    },
    "tags": []
   },
   "outputs": [
    {
     "data": {
      "image/png": "[encoded data removed]",
      "text/plain": [
       "<Figure size 720x720 with 1 Axes>"
      ]
     },
     "metadata": {},
     "output_type": "display_data"
    }
   ],
   "source": [
    "plot_roc_curve(fpr2, tpr2, auc_rf, 'rf',\n",
    "               xlim=(-0.01, 1.05), \n",
    "               ylim=(0.001, 1.05))"
   ]
  },
  {
   "cell_type": "code",
   "execution_count": 31,
   "metadata": {
    "execution": {
     "iopub.execute_input": "2021-02-16T20:38:25.270773Z",
     "iopub.status.busy": "2021-02-16T20:38:25.269705Z",
     "iopub.status.idle": "2021-02-16T20:38:25.493383Z",
     "shell.execute_reply": "2021-02-16T20:38:25.493867Z"
    },
    "id": "BN9SqvPKAjOp",
    "outputId": "e81b8fe7-6b76-482c-ed1a-c616206c7a86",
    "papermill": {
     "duration": 0.283086,
     "end_time": "2021-02-16T20:38:25.494092",
     "exception": false,
     "start_time": "2021-02-16T20:38:25.211006",
     "status": "completed"
    },
    "tags": []
   },
   "outputs": [
    {
     "data": {
      "image/png": "[encoded data removed]",
      "text/plain": [
       "<Figure size 720x720 with 1 Axes>"
      ]
     },
     "metadata": {},
     "output_type": "display_data"
    }
   ],
   "source": [
    "# zoom in\n",
    "plot_roc_curve(fpr2, tpr2, auc_rf, 'rf', \n",
    "               xlim=(-0.01, 0.2), \n",
    "               ylim=(0.85, 1.01))"
   ]
  },
  {
   "cell_type": "code",
   "execution_count": 32,
   "metadata": {
    "execution": {
     "iopub.execute_input": "2021-02-16T20:38:25.613892Z",
     "iopub.status.busy": "2021-02-16T20:38:25.613069Z",
     "iopub.status.idle": "2021-02-16T20:38:25.616725Z",
     "shell.execute_reply": "2021-02-16T20:38:25.616074Z"
    },
    "id": "DElv81xcAlta",
    "papermill": {
     "duration": 0.067131,
     "end_time": "2021-02-16T20:38:25.616904",
     "exception": false,
     "start_time": "2021-02-16T20:38:25.549773",
     "status": "completed"
    },
    "tags": []
   },
   "outputs": [],
   "source": [
    "def print_class_report(predictions, alg_name):\n",
    "    # print some title\n",
    "    print('Classification Report for {0}:'.format(alg_name))\n",
    "    # print class report metrics for each target \n",
    "    print(classification_report(predictions, \n",
    "            test_class_set, \n",
    "            target_names = dx))"
   ]
  },
  {
   "cell_type": "code",
   "execution_count": 33,
   "metadata": {
    "execution": {
     "iopub.execute_input": "2021-02-16T20:38:25.737904Z",
     "iopub.status.busy": "2021-02-16T20:38:25.736863Z",
     "iopub.status.idle": "2021-02-16T20:38:25.747909Z",
     "shell.execute_reply": "2021-02-16T20:38:25.748543Z"
    },
    "id": "WU_aL2VQAnbb",
    "outputId": "45fd377f-f3a6-4913-fdba-a9e66b34a302",
    "papermill": {
     "duration": 0.073702,
     "end_time": "2021-02-16T20:38:25.748778",
     "exception": false,
     "start_time": "2021-02-16T20:38:25.675076",
     "status": "completed"
    },
    "tags": []
   },
   "outputs": [
    {
     "name": "stdout",
     "output_type": "stream",
     "text": [
      "Classification Report for Random Forest:\n",
      "              precision    recall  f1-score   support\n",
      "\n",
      "      Benign       0.99      0.96      0.97        73\n",
      "   Malignant       0.93      0.98      0.95        41\n",
      "\n",
      "    accuracy                           0.96       114\n",
      "   macro avg       0.96      0.97      0.96       114\n",
      "weighted avg       0.97      0.96      0.97       114\n",
      "\n"
     ]
    }
   ],
   "source": [
    "class_report = print_class_report(rf_predictions, 'Random Forest')"
   ]
  },
  {
   "cell_type": "code",
   "execution_count": 34,
   "metadata": {
    "execution": {
     "iopub.execute_input": "2021-02-16T20:38:25.883175Z",
     "iopub.status.busy": "2021-02-16T20:38:25.882069Z",
     "iopub.status.idle": "2021-02-16T20:38:25.938852Z",
     "shell.execute_reply": "2021-02-16T20:38:25.938191Z"
    },
    "id": "OHbIbAQayA8y",
    "outputId": "bf8fae53-7f91-45eb-8f8d-148765641761",
    "papermill": {
     "duration": 0.13254,
     "end_time": "2021-02-16T20:38:25.939017",
     "exception": false,
     "start_time": "2021-02-16T20:38:25.806477",
     "status": "completed"
    },
    "tags": []
   },
   "outputs": [
    {
     "data": {
      "text/html": [
       "<div>\n",
       "<style scoped>\n",
       "    .dataframe tbody tr th:only-of-type {\n",
       "        vertical-align: middle;\n",
       "    }\n",
       "\n",
       "    .dataframe tbody tr th {\n",
       "        vertical-align: top;\n",
       "    }\n",
       "\n",
       "    .dataframe thead th {\n",
       "        text-align: right;\n",
       "    }\n",
       "</style>\n",
       "<table border=\"1\" class=\"dataframe\">\n",
       "  <thead>\n",
       "    <tr style=\"text-align: right;\">\n",
       "      <th></th>\n",
       "      <th>id</th>\n",
       "      <th>diagnosis</th>\n",
       "      <th>radius_mean</th>\n",
       "      <th>texture_mean</th>\n",
       "      <th>perimeter_mean</th>\n",
       "      <th>area_mean</th>\n",
       "      <th>smoothness_mean</th>\n",
       "      <th>compactness_mean</th>\n",
       "      <th>concavity_mean</th>\n",
       "      <th>concave points_mean</th>\n",
       "      <th>symmetry_mean</th>\n",
       "      <th>fractal_dimension_mean</th>\n",
       "      <th>radius_se</th>\n",
       "      <th>texture_se</th>\n",
       "      <th>perimeter_se</th>\n",
       "      <th>area_se</th>\n",
       "      <th>smoothness_se</th>\n",
       "      <th>compactness_se</th>\n",
       "      <th>concavity_se</th>\n",
       "      <th>concave points_se</th>\n",
       "      <th>symmetry_se</th>\n",
       "      <th>fractal_dimension_se</th>\n",
       "      <th>radius_worst</th>\n",
       "      <th>texture_worst</th>\n",
       "      <th>perimeter_worst</th>\n",
       "      <th>area_worst</th>\n",
       "      <th>smoothness_worst</th>\n",
       "      <th>compactness_worst</th>\n",
       "      <th>concavity_worst</th>\n",
       "      <th>concave points_worst</th>\n",
       "      <th>symmetry_worst</th>\n",
       "      <th>fractal_dimension_worst</th>\n",
       "      <th>Unnamed: 32</th>\n",
       "    </tr>\n",
       "  </thead>\n",
       "  <tbody>\n",
       "    <tr>\n",
       "      <th>0</th>\n",
       "      <td>842302</td>\n",
       "      <td>M</td>\n",
       "      <td>17.99</td>\n",
       "      <td>10.38</td>\n",
       "      <td>122.80</td>\n",
       "      <td>1001.0</td>\n",
       "      <td>0.11840</td>\n",
       "      <td>0.27760</td>\n",
       "      <td>0.3001</td>\n",
       "      <td>0.14710</td>\n",
       "      <td>0.2419</td>\n",
       "      <td>0.07871</td>\n",
       "      <td>1.0950</td>\n",
       "      <td>0.9053</td>\n",
       "      <td>8.589</td>\n",
       "      <td>153.40</td>\n",
       "      <td>0.006399</td>\n",
       "      <td>0.04904</td>\n",
       "      <td>0.05373</td>\n",
       "      <td>0.01587</td>\n",
       "      <td>0.03003</td>\n",
       "      <td>0.006193</td>\n",
       "      <td>25.38</td>\n",
       "      <td>17.33</td>\n",
       "      <td>184.60</td>\n",
       "      <td>2019.0</td>\n",
       "      <td>0.1622</td>\n",
       "      <td>0.6656</td>\n",
       "      <td>0.7119</td>\n",
       "      <td>0.2654</td>\n",
       "      <td>0.4601</td>\n",
       "      <td>0.11890</td>\n",
       "      <td>NaN</td>\n",
       "    </tr>\n",
       "    <tr>\n",
       "      <th>1</th>\n",
       "      <td>842517</td>\n",
       "      <td>M</td>\n",
       "      <td>20.57</td>\n",
       "      <td>17.77</td>\n",
       "      <td>132.90</td>\n",
       "      <td>1326.0</td>\n",
       "      <td>0.08474</td>\n",
       "      <td>0.07864</td>\n",
       "      <td>0.0869</td>\n",
       "      <td>0.07017</td>\n",
       "      <td>0.1812</td>\n",
       "      <td>0.05667</td>\n",
       "      <td>0.5435</td>\n",
       "      <td>0.7339</td>\n",
       "      <td>3.398</td>\n",
       "      <td>74.08</td>\n",
       "      <td>0.005225</td>\n",
       "      <td>0.01308</td>\n",
       "      <td>0.01860</td>\n",
       "      <td>0.01340</td>\n",
       "      <td>0.01389</td>\n",
       "      <td>0.003532</td>\n",
       "      <td>24.99</td>\n",
       "      <td>23.41</td>\n",
       "      <td>158.80</td>\n",
       "      <td>1956.0</td>\n",
       "      <td>0.1238</td>\n",
       "      <td>0.1866</td>\n",
       "      <td>0.2416</td>\n",
       "      <td>0.1860</td>\n",
       "      <td>0.2750</td>\n",
       "      <td>0.08902</td>\n",
       "      <td>NaN</td>\n",
       "    </tr>\n",
       "    <tr>\n",
       "      <th>2</th>\n",
       "      <td>84300903</td>\n",
       "      <td>M</td>\n",
       "      <td>19.69</td>\n",
       "      <td>21.25</td>\n",
       "      <td>130.00</td>\n",
       "      <td>1203.0</td>\n",
       "      <td>0.10960</td>\n",
       "      <td>0.15990</td>\n",
       "      <td>0.1974</td>\n",
       "      <td>0.12790</td>\n",
       "      <td>0.2069</td>\n",
       "      <td>0.05999</td>\n",
       "      <td>0.7456</td>\n",
       "      <td>0.7869</td>\n",
       "      <td>4.585</td>\n",
       "      <td>94.03</td>\n",
       "      <td>0.006150</td>\n",
       "      <td>0.04006</td>\n",
       "      <td>0.03832</td>\n",
       "      <td>0.02058</td>\n",
       "      <td>0.02250</td>\n",
       "      <td>0.004571</td>\n",
       "      <td>23.57</td>\n",
       "      <td>25.53</td>\n",
       "      <td>152.50</td>\n",
       "      <td>1709.0</td>\n",
       "      <td>0.1444</td>\n",
       "      <td>0.4245</td>\n",
       "      <td>0.4504</td>\n",
       "      <td>0.2430</td>\n",
       "      <td>0.3613</td>\n",
       "      <td>0.08758</td>\n",
       "      <td>NaN</td>\n",
       "    </tr>\n",
       "    <tr>\n",
       "      <th>3</th>\n",
       "      <td>84348301</td>\n",
       "      <td>M</td>\n",
       "      <td>11.42</td>\n",
       "      <td>20.38</td>\n",
       "      <td>77.58</td>\n",
       "      <td>386.1</td>\n",
       "      <td>0.14250</td>\n",
       "      <td>0.28390</td>\n",
       "      <td>0.2414</td>\n",
       "      <td>0.10520</td>\n",
       "      <td>0.2597</td>\n",
       "      <td>0.09744</td>\n",
       "      <td>0.4956</td>\n",
       "      <td>1.1560</td>\n",
       "      <td>3.445</td>\n",
       "      <td>27.23</td>\n",
       "      <td>0.009110</td>\n",
       "      <td>0.07458</td>\n",
       "      <td>0.05661</td>\n",
       "      <td>0.01867</td>\n",
       "      <td>0.05963</td>\n",
       "      <td>0.009208</td>\n",
       "      <td>14.91</td>\n",
       "      <td>26.50</td>\n",
       "      <td>98.87</td>\n",
       "      <td>567.7</td>\n",
       "      <td>0.2098</td>\n",
       "      <td>0.8663</td>\n",
       "      <td>0.6869</td>\n",
       "      <td>0.2575</td>\n",
       "      <td>0.6638</td>\n",
       "      <td>0.17300</td>\n",
       "      <td>NaN</td>\n",
       "    </tr>\n",
       "    <tr>\n",
       "      <th>4</th>\n",
       "      <td>84358402</td>\n",
       "      <td>M</td>\n",
       "      <td>20.29</td>\n",
       "      <td>14.34</td>\n",
       "      <td>135.10</td>\n",
       "      <td>1297.0</td>\n",
       "      <td>0.10030</td>\n",
       "      <td>0.13280</td>\n",
       "      <td>0.1980</td>\n",
       "      <td>0.10430</td>\n",
       "      <td>0.1809</td>\n",
       "      <td>0.05883</td>\n",
       "      <td>0.7572</td>\n",
       "      <td>0.7813</td>\n",
       "      <td>5.438</td>\n",
       "      <td>94.44</td>\n",
       "      <td>0.011490</td>\n",
       "      <td>0.02461</td>\n",
       "      <td>0.05688</td>\n",
       "      <td>0.01885</td>\n",
       "      <td>0.01756</td>\n",
       "      <td>0.005115</td>\n",
       "      <td>22.54</td>\n",
       "      <td>16.67</td>\n",
       "      <td>152.20</td>\n",
       "      <td>1575.0</td>\n",
       "      <td>0.1374</td>\n",
       "      <td>0.2050</td>\n",
       "      <td>0.4000</td>\n",
       "      <td>0.1625</td>\n",
       "      <td>0.2364</td>\n",
       "      <td>0.07678</td>\n",
       "      <td>NaN</td>\n",
       "    </tr>\n",
       "  </tbody>\n",
       "</table>\n",
       "</div>"
      ],
      "text/plain": [
       "         id diagnosis  radius_mean  texture_mean  perimeter_mean  area_mean  \\\n",
       "0    842302         M        17.99         10.38          122.80     1001.0   \n",
       "1    842517         M        20.57         17.77          132.90     1326.0   \n",
       "2  84300903         M        19.69         21.25          130.00     1203.0   \n",
       "3  84348301         M        11.42         20.38           77.58      386.1   \n",
       "4  84358402         M        20.29         14.34          135.10     1297.0   \n",
       "\n",
       "   smoothness_mean  compactness_mean  concavity_mean  concave points_mean  \\\n",
       "0          0.11840           0.27760          0.3001              0.14710   \n",
       "1          0.08474           0.07864          0.0869              0.07017   \n",
       "2          0.10960           0.15990          0.1974              0.12790   \n",
       "3          0.14250           0.28390          0.2414              0.10520   \n",
       "4          0.10030           0.13280          0.1980              0.10430   \n",
       "\n",
       "   symmetry_mean  fractal_dimension_mean  radius_se  texture_se  perimeter_se  \\\n",
       "0         0.2419                 0.07871     1.0950      0.9053         8.589   \n",
       "1         0.1812                 0.05667     0.5435      0.7339         3.398   \n",
       "2         0.2069                 0.05999     0.7456      0.7869         4.585   \n",
       "3         0.2597                 0.09744     0.4956      1.1560         3.445   \n",
       "4         0.1809                 0.05883     0.7572      0.7813         5.438   \n",
       "\n",
       "   area_se  smoothness_se  compactness_se  concavity_se  concave points_se  \\\n",
       "0   153.40       0.006399         0.04904       0.05373            0.01587   \n",
       "1    74.08       0.005225         0.01308       0.01860            0.01340   \n",
       "2    94.03       0.006150         0.04006       0.03832            0.02058   \n",
       "3    27.23       0.009110         0.07458       0.05661            0.01867   \n",
       "4    94.44       0.011490         0.02461       0.05688            0.01885   \n",
       "\n",
       "   symmetry_se  fractal_dimension_se  radius_worst  texture_worst  \\\n",
       "0      0.03003              0.006193         25.38          17.33   \n",
       "1      0.01389              0.003532         24.99          23.41   \n",
       "2      0.02250              0.004571         23.57          25.53   \n",
       "3      0.05963              0.009208         14.91          26.50   \n",
       "4      0.01756              0.005115         22.54          16.67   \n",
       "\n",
       "   perimeter_worst  area_worst  smoothness_worst  compactness_worst  \\\n",
       "0           184.60      2019.0            0.1622             0.6656   \n",
       "1           158.80      1956.0            0.1238             0.1866   \n",
       "2           152.50      1709.0            0.1444             0.4245   \n",
       "3            98.87       567.7            0.2098             0.8663   \n",
       "4           152.20      1575.0            0.1374             0.2050   \n",
       "\n",
       "   concavity_worst  concave points_worst  symmetry_worst  \\\n",
       "0           0.7119                0.2654          0.4601   \n",
       "1           0.2416                0.1860          0.2750   \n",
       "2           0.4504                0.2430          0.3613   \n",
       "3           0.6869                0.2575          0.6638   \n",
       "4           0.4000                0.1625          0.2364   \n",
       "\n",
       "   fractal_dimension_worst  Unnamed: 32  \n",
       "0                  0.11890          NaN  \n",
       "1                  0.08902          NaN  \n",
       "2                  0.08758          NaN  \n",
       "3                  0.17300          NaN  \n",
       "4                  0.07678          NaN  "
      ]
     },
     "execution_count": 34,
     "metadata": {},
     "output_type": "execute_result"
    }
   ],
   "source": [
    "# ReImport modules\n",
    "# notebook isnt producing the correct results unless I redo this little bit of work.\n",
    "\n",
    "%matplotlib inline\n",
    "\n",
    "import time\n",
    "import random\n",
    "import numpy as np\n",
    "import pandas as pd\n",
    "import seaborn as sns\n",
    "import matplotlib.pyplot as plt\n",
    "from sklearn.metrics import roc_curve, auc\n",
    "from sklearn.metrics import confusion_matrix\n",
    "from sklearn.metrics import classification_report\n",
    "from sklearn.model_selection import KFold, cross_val_score\n",
    "from sklearn.model_selection import train_test_split, GridSearchCV\n",
    "from sklearn.ensemble import RandomForestClassifier \n",
    "from urllib.request import urlopen \n",
    "\n",
    "# read in data and look at it \n",
    "plt.style.use('ggplot')\n",
    "pd.set_option('display.max_columns', 500) \n",
    "\n",
    "breast_cancer = pd.read_csv('../input/breast-cancer-wisconsin-data/data.csv')\n",
    "\n",
    "names = ['id', 'diagnosis', 'radius_mean', \n",
    "         'texture_mean', 'perimeter_mean', 'area_mean', \n",
    "         'smoothness_mean', 'compactness_mean', \n",
    "         'concavity_mean','concave_points_mean', \n",
    "         'symmetry_mean', 'fractal_dimension_mean',\n",
    "         'radius_se', 'texture_se', 'perimeter_se', \n",
    "         'area_se', 'smoothness_se', 'compactness_se', \n",
    "         'concavity_se', 'concave_points_se', \n",
    "         'symmetry_se', 'fractal_dimension_se', \n",
    "         'radius_worst', 'texture_worst', \n",
    "         'perimeter_worst', 'area_worst', \n",
    "         'smoothness_worst', 'compactness_worst', \n",
    "         'concavity_worst', 'concave_points_worst', \n",
    "         'symmetry_worst', 'fractal_dimension_worst'] \n",
    "\n",
    "dx = ['Benign', 'Malignant']\n",
    "breast_cancer.head()"
   ]
  },
  {
   "cell_type": "code",
   "execution_count": 35,
   "metadata": {
    "execution": {
     "iopub.execute_input": "2021-02-16T20:38:26.069139Z",
     "iopub.status.busy": "2021-02-16T20:38:26.068057Z",
     "iopub.status.idle": "2021-02-16T20:38:26.087849Z",
     "shell.execute_reply": "2021-02-16T20:38:26.088429Z"
    },
    "id": "OJQDXQX2yCD4",
    "outputId": "c804b395-b5a6-469d-c559-30bf0e5a3d31",
    "papermill": {
     "duration": 0.08694,
     "end_time": "2021-02-16T20:38:26.088664",
     "exception": false,
     "start_time": "2021-02-16T20:38:26.001724",
     "status": "completed"
    },
    "tags": []
   },
   "outputs": [
    {
     "data": {
      "text/html": [
       "<div>\n",
       "<style scoped>\n",
       "    .dataframe tbody tr th:only-of-type {\n",
       "        vertical-align: middle;\n",
       "    }\n",
       "\n",
       "    .dataframe tbody tr th {\n",
       "        vertical-align: top;\n",
       "    }\n",
       "\n",
       "    .dataframe thead th {\n",
       "        text-align: right;\n",
       "    }\n",
       "</style>\n",
       "<table border=\"1\" class=\"dataframe\">\n",
       "  <thead>\n",
       "    <tr style=\"text-align: right;\">\n",
       "      <th></th>\n",
       "      <th>diagnosis</th>\n",
       "    </tr>\n",
       "    <tr>\n",
       "      <th>id</th>\n",
       "      <th></th>\n",
       "    </tr>\n",
       "  </thead>\n",
       "  <tbody>\n",
       "    <tr>\n",
       "      <th>842302</th>\n",
       "      <td>1</td>\n",
       "    </tr>\n",
       "    <tr>\n",
       "      <th>842517</th>\n",
       "      <td>1</td>\n",
       "    </tr>\n",
       "    <tr>\n",
       "      <th>84300903</th>\n",
       "      <td>1</td>\n",
       "    </tr>\n",
       "    <tr>\n",
       "      <th>84348301</th>\n",
       "      <td>1</td>\n",
       "    </tr>\n",
       "    <tr>\n",
       "      <th>84358402</th>\n",
       "      <td>1</td>\n",
       "    </tr>\n",
       "    <tr>\n",
       "      <th>...</th>\n",
       "      <td>...</td>\n",
       "    </tr>\n",
       "    <tr>\n",
       "      <th>926424</th>\n",
       "      <td>1</td>\n",
       "    </tr>\n",
       "    <tr>\n",
       "      <th>926682</th>\n",
       "      <td>1</td>\n",
       "    </tr>\n",
       "    <tr>\n",
       "      <th>926954</th>\n",
       "      <td>1</td>\n",
       "    </tr>\n",
       "    <tr>\n",
       "      <th>927241</th>\n",
       "      <td>1</td>\n",
       "    </tr>\n",
       "    <tr>\n",
       "      <th>92751</th>\n",
       "      <td>0</td>\n",
       "    </tr>\n",
       "  </tbody>\n",
       "</table>\n",
       "<p>569 rows × 1 columns</p>\n",
       "</div>"
      ],
      "text/plain": [
       "          diagnosis\n",
       "id                 \n",
       "842302            1\n",
       "842517            1\n",
       "84300903          1\n",
       "84348301          1\n",
       "84358402          1\n",
       "...             ...\n",
       "926424            1\n",
       "926682            1\n",
       "926954            1\n",
       "927241            1\n",
       "92751             0\n",
       "\n",
       "[569 rows x 1 columns]"
      ]
     },
     "execution_count": 35,
     "metadata": {},
     "output_type": "execute_result"
    }
   ],
   "source": [
    "# Setting 'id_number' as our index\n",
    "breast_cancer.set_index(['id'], inplace = True) \n",
    "\n",
    "# Converted to binary to help later on with models and plots\n",
    "breast_cancer['diagnosis'] = breast_cancer['diagnosis'].map({'M':1, 'B':0})\n",
    "\n",
    "# check mapping worked \n",
    "mapping = breast_cancer[['diagnosis']]\n",
    "mapping"
   ]
  },
  {
   "cell_type": "code",
   "execution_count": 36,
   "metadata": {
    "execution": {
     "iopub.execute_input": "2021-02-16T20:38:26.235835Z",
     "iopub.status.busy": "2021-02-16T20:38:26.219074Z",
     "iopub.status.idle": "2021-02-16T20:38:26.243439Z",
     "shell.execute_reply": "2021-02-16T20:38:26.242492Z"
    },
    "id": "VOhm3mWEy6wQ",
    "outputId": "7febc635-bb3a-4d61-b5dc-7f5464d3a236",
    "papermill": {
     "duration": 0.093843,
     "end_time": "2021-02-16T20:38:26.243655",
     "exception": false,
     "start_time": "2021-02-16T20:38:26.149812",
     "status": "completed"
    },
    "tags": []
   },
   "outputs": [
    {
     "data": {
      "text/plain": [
       "diagnosis                  0\n",
       "radius_mean                0\n",
       "texture_mean               0\n",
       "perimeter_mean             0\n",
       "area_mean                  0\n",
       "smoothness_mean            0\n",
       "compactness_mean           0\n",
       "concavity_mean             0\n",
       "concave points_mean        0\n",
       "symmetry_mean              0\n",
       "fractal_dimension_mean     0\n",
       "radius_se                  0\n",
       "texture_se                 0\n",
       "perimeter_se               0\n",
       "area_se                    0\n",
       "smoothness_se              0\n",
       "compactness_se             0\n",
       "concavity_se               0\n",
       "concave points_se          0\n",
       "symmetry_se                0\n",
       "fractal_dimension_se       0\n",
       "radius_worst               0\n",
       "texture_worst              0\n",
       "perimeter_worst            0\n",
       "area_worst                 0\n",
       "smoothness_worst           0\n",
       "compactness_worst          0\n",
       "concavity_worst            0\n",
       "concave points_worst       0\n",
       "symmetry_worst             0\n",
       "fractal_dimension_worst    0\n",
       "dtype: int64"
      ]
     },
     "execution_count": 36,
     "metadata": {},
     "output_type": "execute_result"
    }
   ],
   "source": [
    "# check check number of null values in each field\n",
    "breast_cancer.apply(lambda x: x.isnull().sum())\n",
    "\n",
    "# drop the field we dont need\n",
    "breast_cancer = breast_cancer.drop(columns=['Unnamed: 32'])\n",
    "\n",
    "# double check the field is gone\n",
    "breast_cancer.apply(lambda x: x.isnull().sum())"
   ]
  },
  {
   "cell_type": "code",
   "execution_count": 37,
   "metadata": {
    "execution": {
     "iopub.execute_input": "2021-02-16T20:38:26.385136Z",
     "iopub.status.busy": "2021-02-16T20:38:26.371193Z",
     "iopub.status.idle": "2021-02-16T20:38:26.390818Z",
     "shell.execute_reply": "2021-02-16T20:38:26.389884Z"
    },
    "id": "vJrFRyYGzLtU",
    "outputId": "d8517a6b-c436-4960-a28d-d58f8b3467c7",
    "papermill": {
     "duration": 0.086695,
     "end_time": "2021-02-16T20:38:26.391051",
     "exception": false,
     "start_time": "2021-02-16T20:38:26.304356",
     "status": "completed"
    },
    "tags": []
   },
   "outputs": [
    {
     "name": "stdout",
     "output_type": "stream",
     "text": [
      "<class 'pandas.core.frame.DataFrame'>\n",
      "Int64Index: 569 entries, 842302 to 92751\n",
      "Data columns (total 31 columns):\n",
      " #   Column                   Non-Null Count  Dtype  \n",
      "---  ------                   --------------  -----  \n",
      " 0   diagnosis                569 non-null    int64  \n",
      " 1   radius_mean              569 non-null    float64\n",
      " 2   texture_mean             569 non-null    float64\n",
      " 3   perimeter_mean           569 non-null    float64\n",
      " 4   area_mean                569 non-null    float64\n",
      " 5   smoothness_mean          569 non-null    float64\n",
      " 6   compactness_mean         569 non-null    float64\n",
      " 7   concavity_mean           569 non-null    float64\n",
      " 8   concave points_mean      569 non-null    float64\n",
      " 9   symmetry_mean            569 non-null    float64\n",
      " 10  fractal_dimension_mean   569 non-null    float64\n",
      " 11  radius_se                569 non-null    float64\n",
      " 12  texture_se               569 non-null    float64\n",
      " 13  perimeter_se             569 non-null    float64\n",
      " 14  area_se                  569 non-null    float64\n",
      " 15  smoothness_se            569 non-null    float64\n",
      " 16  compactness_se           569 non-null    float64\n",
      " 17  concavity_se             569 non-null    float64\n",
      " 18  concave points_se        569 non-null    float64\n",
      " 19  symmetry_se              569 non-null    float64\n",
      " 20  fractal_dimension_se     569 non-null    float64\n",
      " 21  radius_worst             569 non-null    float64\n",
      " 22  texture_worst            569 non-null    float64\n",
      " 23  perimeter_worst          569 non-null    float64\n",
      " 24  area_worst               569 non-null    float64\n",
      " 25  smoothness_worst         569 non-null    float64\n",
      " 26  compactness_worst        569 non-null    float64\n",
      " 27  concavity_worst          569 non-null    float64\n",
      " 28  concave points_worst     569 non-null    float64\n",
      " 29  symmetry_worst           569 non-null    float64\n",
      " 30  fractal_dimension_worst  569 non-null    float64\n",
      "dtypes: float64(30), int64(1)\n",
      "memory usage: 142.2 KB\n"
     ]
    }
   ],
   "source": [
    "breast_cancer.info()"
   ]
  },
  {
   "cell_type": "code",
   "execution_count": 38,
   "metadata": {
    "execution": {
     "iopub.execute_input": "2021-02-16T20:38:26.535800Z",
     "iopub.status.busy": "2021-02-16T20:38:26.530205Z",
     "iopub.status.idle": "2021-02-16T20:38:26.540408Z",
     "shell.execute_reply": "2021-02-16T20:38:26.539686Z"
    },
    "id": "bYXKrUZPzB1d",
    "papermill": {
     "duration": 0.086221,
     "end_time": "2021-02-16T20:38:26.540635",
     "exception": false,
     "start_time": "2021-02-16T20:38:26.454414",
     "status": "completed"
    },
    "tags": []
   },
   "outputs": [],
   "source": [
    "from sklearn.model_selection import train_test_split\n",
    "\n",
    "feature_space = breast_cancer.iloc[:, breast_cancer.columns != 'diagnosis']\n",
    "feature_class = breast_cancer.iloc[:, breast_cancer.columns == 'diagnosis']\n",
    "\n",
    "X_train, X_test, y_train, y_test = train_test_split(feature_space, feature_class, test_size=0.20, random_state = 42, stratify=feature_class)"
   ]
  },
  {
   "cell_type": "code",
   "execution_count": 39,
   "metadata": {
    "execution": {
     "iopub.execute_input": "2021-02-16T20:38:26.674175Z",
     "iopub.status.busy": "2021-02-16T20:38:26.673044Z",
     "iopub.status.idle": "2021-02-16T20:38:26.682358Z",
     "shell.execute_reply": "2021-02-16T20:38:26.683131Z"
    },
    "id": "PdZbqrqK0v6_",
    "papermill": {
     "duration": 0.081686,
     "end_time": "2021-02-16T20:38:26.683372",
     "exception": false,
     "start_time": "2021-02-16T20:38:26.601686",
     "status": "completed"
    },
    "tags": []
   },
   "outputs": [],
   "source": [
    "import numpy as np\n",
    "from sklearn.preprocessing import StandardScaler\n",
    "\n",
    "# instantiate scaler\n",
    "scaler = StandardScaler()\n",
    "\n",
    "# scale the train and test data\n",
    "X_train_scaled = scaler.fit_transform(X_train)\n",
    "X_test_scaled = scaler.transform(X_test)\n",
    "\n",
    "y_train = np.array(y_train).ravel()"
   ]
  },
  {
   "cell_type": "code",
   "execution_count": 40,
   "metadata": {
    "execution": {
     "iopub.execute_input": "2021-02-16T20:38:26.811876Z",
     "iopub.status.busy": "2021-02-16T20:38:26.810636Z",
     "iopub.status.idle": "2021-02-16T20:38:26.816155Z",
     "shell.execute_reply": "2021-02-16T20:38:26.816941Z"
    },
    "id": "1-zfyT9O1QHy",
    "papermill": {
     "duration": 0.073223,
     "end_time": "2021-02-16T20:38:26.817159",
     "exception": false,
     "start_time": "2021-02-16T20:38:26.743936",
     "status": "completed"
    },
    "tags": []
   },
   "outputs": [],
   "source": [
    "rf_pca_classifier = RandomForestClassifier(random_state=42, n_estimators=10)"
   ]
  },
  {
   "cell_type": "code",
   "execution_count": 41,
   "metadata": {
    "execution": {
     "iopub.execute_input": "2021-02-16T20:38:26.944793Z",
     "iopub.status.busy": "2021-02-16T20:38:26.943765Z",
     "iopub.status.idle": "2021-02-16T20:38:27.240386Z",
     "shell.execute_reply": "2021-02-16T20:38:27.239631Z"
    },
    "id": "g2Vfom3L13sy",
    "outputId": "711f7659-8d9e-45b3-cf45-cc40b66dd465",
    "papermill": {
     "duration": 0.363177,
     "end_time": "2021-02-16T20:38:27.240628",
     "exception": false,
     "start_time": "2021-02-16T20:38:26.877451",
     "status": "completed"
    },
    "tags": []
   },
   "outputs": [
    {
     "data": {
      "image/png": "[encoded data removed]",
      "text/plain": [
       "<Figure size 432x288 with 1 Axes>"
      ]
     },
     "metadata": {},
     "output_type": "display_data"
    }
   ],
   "source": [
    "import matplotlib.pyplot as plt\n",
    "import seaborn as sb\n",
    "\n",
    "from sklearn.decomposition import PCA \n",
    "\n",
    "# instantiate PCA for testing number of components, I will analyze explained_variance\n",
    "component_test = PCA(n_components=30)\n",
    "component_test.fit(X_train_scaled)\n",
    "\n",
    "sb.set(style='whitegrid')\n",
    "plt.xlabel('Number of components')\n",
    "plt.ylabel('Cumulative Explained Variance')\n",
    "plt.plot(np.cumsum(component_test.explained_variance_ratio_))\n",
    "plt.axvline(linewidth=4, color='r', linestyle = '--', x=14, ymin=0, ymax=1)\n",
    "plt.show()"
   ]
  },
  {
   "cell_type": "markdown",
   "metadata": {
    "id": "nsHhOjxi_LDP",
    "papermill": {
     "duration": 0.061342,
     "end_time": "2021-02-16T20:38:27.365002",
     "exception": false,
     "start_time": "2021-02-16T20:38:27.303660",
     "status": "completed"
    },
    "tags": []
   },
   "source": [
    "I will use the PCA to reduce our feature space into 14 components with a variance over 95%"
   ]
  },
  {
   "cell_type": "code",
   "execution_count": 42,
   "metadata": {
    "execution": {
     "iopub.execute_input": "2021-02-16T20:38:27.494024Z",
     "iopub.status.busy": "2021-02-16T20:38:27.493284Z",
     "iopub.status.idle": "2021-02-16T20:38:27.506496Z",
     "shell.execute_reply": "2021-02-16T20:38:27.507453Z"
    },
    "id": "ruX7634_5q5p",
    "papermill": {
     "duration": 0.080957,
     "end_time": "2021-02-16T20:38:27.507806",
     "exception": false,
     "start_time": "2021-02-16T20:38:27.426849",
     "status": "completed"
    },
    "tags": []
   },
   "outputs": [],
   "source": [
    "# initialize n_components\n",
    "pca = PCA(n_components=14)\n",
    "\n",
    "# fit to our scaled training data\n",
    "pca.fit(X_train_scaled)\n",
    "\n",
    "# use PCA fit to transform X_train and X_test data \n",
    "X_train_scaled_pca = pca.transform(X_train_scaled)\n",
    "X_test_scaled_pca = pca.transform(X_test_scaled)"
   ]
  },
  {
   "cell_type": "code",
   "execution_count": 43,
   "metadata": {
    "execution": {
     "iopub.execute_input": "2021-02-16T20:38:27.699787Z",
     "iopub.status.busy": "2021-02-16T20:38:27.698910Z",
     "iopub.status.idle": "2021-02-16T20:38:27.704894Z",
     "shell.execute_reply": "2021-02-16T20:38:27.703564Z"
    },
    "id": "qXiACO_c6hAR",
    "papermill": {
     "duration": 0.08529,
     "end_time": "2021-02-16T20:38:27.705102",
     "exception": false,
     "start_time": "2021-02-16T20:38:27.619812",
     "status": "completed"
    },
    "tags": []
   },
   "outputs": [
    {
     "data": {
      "text/html": [
       "<div>\n",
       "<style scoped>\n",
       "    .dataframe tbody tr th:only-of-type {\n",
       "        vertical-align: middle;\n",
       "    }\n",
       "\n",
       "    .dataframe tbody tr th {\n",
       "        vertical-align: top;\n",
       "    }\n",
       "\n",
       "    .dataframe thead th {\n",
       "        text-align: right;\n",
       "    }\n",
       "</style>\n",
       "<table border=\"1\" class=\"dataframe\">\n",
       "  <thead>\n",
       "    <tr style=\"text-align: right;\">\n",
       "      <th></th>\n",
       "      <th>Cumulative Variance Ratio</th>\n",
       "      <th>Explained Variance Ratio</th>\n",
       "    </tr>\n",
       "  </thead>\n",
       "  <tbody>\n",
       "    <tr>\n",
       "      <th>0</th>\n",
       "      <td>0.445935</td>\n",
       "      <td>0.445935</td>\n",
       "    </tr>\n",
       "    <tr>\n",
       "      <th>1</th>\n",
       "      <td>0.631388</td>\n",
       "      <td>0.185453</td>\n",
       "    </tr>\n",
       "    <tr>\n",
       "      <th>2</th>\n",
       "      <td>0.727234</td>\n",
       "      <td>0.095846</td>\n",
       "    </tr>\n",
       "    <tr>\n",
       "      <th>3</th>\n",
       "      <td>0.793172</td>\n",
       "      <td>0.065938</td>\n",
       "    </tr>\n",
       "    <tr>\n",
       "      <th>4</th>\n",
       "      <td>0.849395</td>\n",
       "      <td>0.056223</td>\n",
       "    </tr>\n",
       "    <tr>\n",
       "      <th>5</th>\n",
       "      <td>0.889280</td>\n",
       "      <td>0.039885</td>\n",
       "    </tr>\n",
       "    <tr>\n",
       "      <th>6</th>\n",
       "      <td>0.911425</td>\n",
       "      <td>0.022145</td>\n",
       "    </tr>\n",
       "    <tr>\n",
       "      <th>7</th>\n",
       "      <td>0.927565</td>\n",
       "      <td>0.016140</td>\n",
       "    </tr>\n",
       "    <tr>\n",
       "      <th>8</th>\n",
       "      <td>0.940412</td>\n",
       "      <td>0.012848</td>\n",
       "    </tr>\n",
       "    <tr>\n",
       "      <th>9</th>\n",
       "      <td>0.952069</td>\n",
       "      <td>0.011657</td>\n",
       "    </tr>\n",
       "    <tr>\n",
       "      <th>10</th>\n",
       "      <td>0.962153</td>\n",
       "      <td>0.010084</td>\n",
       "    </tr>\n",
       "    <tr>\n",
       "      <th>11</th>\n",
       "      <td>0.971208</td>\n",
       "      <td>0.009055</td>\n",
       "    </tr>\n",
       "    <tr>\n",
       "      <th>12</th>\n",
       "      <td>0.979134</td>\n",
       "      <td>0.007926</td>\n",
       "    </tr>\n",
       "    <tr>\n",
       "      <th>13</th>\n",
       "      <td>0.983929</td>\n",
       "      <td>0.004795</td>\n",
       "    </tr>\n",
       "    <tr>\n",
       "      <th>14</th>\n",
       "      <td>0.986970</td>\n",
       "      <td>0.003041</td>\n",
       "    </tr>\n",
       "    <tr>\n",
       "      <th>15</th>\n",
       "      <td>0.989483</td>\n",
       "      <td>0.002513</td>\n",
       "    </tr>\n",
       "    <tr>\n",
       "      <th>16</th>\n",
       "      <td>0.991459</td>\n",
       "      <td>0.001975</td>\n",
       "    </tr>\n",
       "    <tr>\n",
       "      <th>17</th>\n",
       "      <td>0.993203</td>\n",
       "      <td>0.001744</td>\n",
       "    </tr>\n",
       "    <tr>\n",
       "      <th>18</th>\n",
       "      <td>0.994776</td>\n",
       "      <td>0.001573</td>\n",
       "    </tr>\n",
       "    <tr>\n",
       "      <th>19</th>\n",
       "      <td>0.995828</td>\n",
       "      <td>0.001052</td>\n",
       "    </tr>\n",
       "    <tr>\n",
       "      <th>20</th>\n",
       "      <td>0.996823</td>\n",
       "      <td>0.000996</td>\n",
       "    </tr>\n",
       "    <tr>\n",
       "      <th>21</th>\n",
       "      <td>0.997619</td>\n",
       "      <td>0.000796</td>\n",
       "    </tr>\n",
       "    <tr>\n",
       "      <th>22</th>\n",
       "      <td>0.998403</td>\n",
       "      <td>0.000784</td>\n",
       "    </tr>\n",
       "    <tr>\n",
       "      <th>23</th>\n",
       "      <td>0.998934</td>\n",
       "      <td>0.000531</td>\n",
       "    </tr>\n",
       "    <tr>\n",
       "      <th>24</th>\n",
       "      <td>0.999446</td>\n",
       "      <td>0.000512</td>\n",
       "    </tr>\n",
       "    <tr>\n",
       "      <th>25</th>\n",
       "      <td>0.999710</td>\n",
       "      <td>0.000264</td>\n",
       "    </tr>\n",
       "    <tr>\n",
       "      <th>26</th>\n",
       "      <td>0.999920</td>\n",
       "      <td>0.000210</td>\n",
       "    </tr>\n",
       "    <tr>\n",
       "      <th>27</th>\n",
       "      <td>0.999971</td>\n",
       "      <td>0.000050</td>\n",
       "    </tr>\n",
       "    <tr>\n",
       "      <th>28</th>\n",
       "      <td>0.999996</td>\n",
       "      <td>0.000025</td>\n",
       "    </tr>\n",
       "    <tr>\n",
       "      <th>29</th>\n",
       "      <td>1.000000</td>\n",
       "      <td>0.000004</td>\n",
       "    </tr>\n",
       "  </tbody>\n",
       "</table>\n",
       "</div>"
      ],
      "text/plain": [
       "    Cumulative Variance Ratio  Explained Variance Ratio\n",
       "0                    0.445935                  0.445935\n",
       "1                    0.631388                  0.185453\n",
       "2                    0.727234                  0.095846\n",
       "3                    0.793172                  0.065938\n",
       "4                    0.849395                  0.056223\n",
       "5                    0.889280                  0.039885\n",
       "6                    0.911425                  0.022145\n",
       "7                    0.927565                  0.016140\n",
       "8                    0.940412                  0.012848\n",
       "9                    0.952069                  0.011657\n",
       "10                   0.962153                  0.010084\n",
       "11                   0.971208                  0.009055\n",
       "12                   0.979134                  0.007926\n",
       "13                   0.983929                  0.004795\n",
       "14                   0.986970                  0.003041\n",
       "15                   0.989483                  0.002513\n",
       "16                   0.991459                  0.001975\n",
       "17                   0.993203                  0.001744\n",
       "18                   0.994776                  0.001573\n",
       "19                   0.995828                  0.001052\n",
       "20                   0.996823                  0.000996\n",
       "21                   0.997619                  0.000796\n",
       "22                   0.998403                  0.000784\n",
       "23                   0.998934                  0.000531\n",
       "24                   0.999446                  0.000512\n",
       "25                   0.999710                  0.000264\n",
       "26                   0.999920                  0.000210\n",
       "27                   0.999971                  0.000050\n",
       "28                   0.999996                  0.000025\n",
       "29                   1.000000                  0.000004"
      ]
     },
     "execution_count": 43,
     "metadata": {},
     "output_type": "execute_result"
    }
   ],
   "source": [
    "# just so I can view how much variance features carry\n",
    "evr = component_test.explained_variance_ratio_\n",
    "cvr = np.cumsum(component_test.explained_variance_ratio_)\n",
    "pca_df = pd.DataFrame()\n",
    "pca_df['Cumulative Variance Ratio'] = cvr\n",
    "pca_df['Explained Variance Ratio'] = evr\n",
    "pca_df"
   ]
  },
  {
   "cell_type": "code",
   "execution_count": 44,
   "metadata": {
    "execution": {
     "iopub.execute_input": "2021-02-16T20:38:27.852326Z",
     "iopub.status.busy": "2021-02-16T20:38:27.847356Z",
     "iopub.status.idle": "2021-02-16T20:38:27.878374Z",
     "shell.execute_reply": "2021-02-16T20:38:27.877743Z"
    },
    "id": "-w-ATv9xe_73",
    "papermill": {
     "duration": 0.107585,
     "end_time": "2021-02-16T20:38:27.878513",
     "exception": false,
     "start_time": "2021-02-16T20:38:27.770928",
     "status": "completed"
    },
    "tags": []
   },
   "outputs": [
    {
     "data": {
      "text/html": [
       "<div>\n",
       "<style scoped>\n",
       "    .dataframe tbody tr th:only-of-type {\n",
       "        vertical-align: middle;\n",
       "    }\n",
       "\n",
       "    .dataframe tbody tr th {\n",
       "        vertical-align: top;\n",
       "    }\n",
       "\n",
       "    .dataframe thead th {\n",
       "        text-align: right;\n",
       "    }\n",
       "</style>\n",
       "<table border=\"1\" class=\"dataframe\">\n",
       "  <thead>\n",
       "    <tr style=\"text-align: right;\">\n",
       "      <th></th>\n",
       "      <th>radius_mean</th>\n",
       "      <th>texture_mean</th>\n",
       "      <th>perimeter_mean</th>\n",
       "      <th>area_mean</th>\n",
       "      <th>smoothness_mean</th>\n",
       "      <th>compactness_mean</th>\n",
       "      <th>concavity_mean</th>\n",
       "      <th>concave_points_mean</th>\n",
       "      <th>symmetry_mean</th>\n",
       "      <th>fractal_dimension_mean</th>\n",
       "      <th>radius_se</th>\n",
       "      <th>texture_se</th>\n",
       "      <th>perimeter_se</th>\n",
       "      <th>area_se</th>\n",
       "      <th>smoothness_se</th>\n",
       "      <th>compactness_se</th>\n",
       "      <th>concavity_se</th>\n",
       "      <th>concave_points_se</th>\n",
       "      <th>symmetry_se</th>\n",
       "      <th>fractal_dimension_se</th>\n",
       "      <th>radius_worst</th>\n",
       "      <th>texture_worst</th>\n",
       "      <th>perimeter_worst</th>\n",
       "      <th>area_worst</th>\n",
       "      <th>smoothness_worst</th>\n",
       "      <th>compactness_worst</th>\n",
       "      <th>concavity_worst</th>\n",
       "      <th>concave_points_worst</th>\n",
       "      <th>symmetry_worst</th>\n",
       "      <th>fractal_dimension_worst</th>\n",
       "    </tr>\n",
       "  </thead>\n",
       "  <tbody>\n",
       "    <tr>\n",
       "      <th>PCA Component 0</th>\n",
       "      <td>0.217057</td>\n",
       "      <td>0.101900</td>\n",
       "      <td>0.225804</td>\n",
       "      <td>0.219079</td>\n",
       "      <td>0.148588</td>\n",
       "      <td>0.241928</td>\n",
       "      <td>0.257761</td>\n",
       "      <td>0.260383</td>\n",
       "      <td>0.142086</td>\n",
       "      <td>0.071593</td>\n",
       "      <td>0.204691</td>\n",
       "      <td>0.020209</td>\n",
       "      <td>0.210071</td>\n",
       "      <td>0.199926</td>\n",
       "      <td>0.023165</td>\n",
       "      <td>0.175339</td>\n",
       "      <td>0.150796</td>\n",
       "      <td>0.184483</td>\n",
       "      <td>0.050398</td>\n",
       "      <td>0.107000</td>\n",
       "      <td>0.226607</td>\n",
       "      <td>0.104176</td>\n",
       "      <td>0.235494</td>\n",
       "      <td>0.223108</td>\n",
       "      <td>0.129968</td>\n",
       "      <td>0.210301</td>\n",
       "      <td>0.226322</td>\n",
       "      <td>0.249367</td>\n",
       "      <td>0.122964</td>\n",
       "      <td>0.133513</td>\n",
       "    </tr>\n",
       "    <tr>\n",
       "      <th>PCA Component 1</th>\n",
       "      <td>-0.239776</td>\n",
       "      <td>-0.061533</td>\n",
       "      <td>-0.220949</td>\n",
       "      <td>-0.236925</td>\n",
       "      <td>0.177063</td>\n",
       "      <td>0.139921</td>\n",
       "      <td>0.060089</td>\n",
       "      <td>-0.040533</td>\n",
       "      <td>0.193612</td>\n",
       "      <td>0.366648</td>\n",
       "      <td>-0.110270</td>\n",
       "      <td>0.075842</td>\n",
       "      <td>-0.094415</td>\n",
       "      <td>-0.157130</td>\n",
       "      <td>0.190535</td>\n",
       "      <td>0.224035</td>\n",
       "      <td>0.202019</td>\n",
       "      <td>0.133313</td>\n",
       "      <td>0.174132</td>\n",
       "      <td>0.276203</td>\n",
       "      <td>-0.223083</td>\n",
       "      <td>-0.047070</td>\n",
       "      <td>-0.202365</td>\n",
       "      <td>-0.223734</td>\n",
       "      <td>0.168982</td>\n",
       "      <td>0.142217</td>\n",
       "      <td>0.104547</td>\n",
       "      <td>-0.006525</td>\n",
       "      <td>0.150772</td>\n",
       "      <td>0.277471</td>\n",
       "    </tr>\n",
       "    <tr>\n",
       "      <th>PCA Component 2</th>\n",
       "      <td>-0.008311</td>\n",
       "      <td>0.042622</td>\n",
       "      <td>-0.008682</td>\n",
       "      <td>0.026774</td>\n",
       "      <td>-0.123747</td>\n",
       "      <td>-0.072390</td>\n",
       "      <td>0.006244</td>\n",
       "      <td>-0.033120</td>\n",
       "      <td>-0.031526</td>\n",
       "      <td>-0.024754</td>\n",
       "      <td>0.261601</td>\n",
       "      <td>0.365249</td>\n",
       "      <td>0.260287</td>\n",
       "      <td>0.212088</td>\n",
       "      <td>0.296997</td>\n",
       "      <td>0.169105</td>\n",
       "      <td>0.195783</td>\n",
       "      <td>0.228363</td>\n",
       "      <td>0.295181</td>\n",
       "      <td>0.224180</td>\n",
       "      <td>-0.051765</td>\n",
       "      <td>-0.065006</td>\n",
       "      <td>-0.051920</td>\n",
       "      <td>-0.018463</td>\n",
       "      <td>-0.273405</td>\n",
       "      <td>-0.232023</td>\n",
       "      <td>-0.166840</td>\n",
       "      <td>-0.173776</td>\n",
       "      <td>-0.258227</td>\n",
       "      <td>-0.227019</td>\n",
       "    </tr>\n",
       "    <tr>\n",
       "      <th>PCA Component 3</th>\n",
       "      <td>0.034019</td>\n",
       "      <td>-0.604567</td>\n",
       "      <td>0.034811</td>\n",
       "      <td>0.049760</td>\n",
       "      <td>0.172319</td>\n",
       "      <td>0.026919</td>\n",
       "      <td>0.018772</td>\n",
       "      <td>0.066597</td>\n",
       "      <td>0.060259</td>\n",
       "      <td>0.047728</td>\n",
       "      <td>0.101823</td>\n",
       "      <td>-0.365445</td>\n",
       "      <td>0.091772</td>\n",
       "      <td>0.115349</td>\n",
       "      <td>0.051559</td>\n",
       "      <td>-0.038399</td>\n",
       "      <td>-0.008924</td>\n",
       "      <td>0.050397</td>\n",
       "      <td>0.052284</td>\n",
       "      <td>-0.006080</td>\n",
       "      <td>0.014340</td>\n",
       "      <td>-0.625307</td>\n",
       "      <td>0.011821</td>\n",
       "      <td>0.028554</td>\n",
       "      <td>0.046106</td>\n",
       "      <td>-0.086943</td>\n",
       "      <td>-0.070720</td>\n",
       "      <td>0.012278</td>\n",
       "      <td>-0.023137</td>\n",
       "      <td>-0.076337</td>\n",
       "    </tr>\n",
       "    <tr>\n",
       "      <th>PCA Component 4</th>\n",
       "      <td>0.051273</td>\n",
       "      <td>-0.078389</td>\n",
       "      <td>0.049230</td>\n",
       "      <td>0.019268</td>\n",
       "      <td>-0.353763</td>\n",
       "      <td>0.005880</td>\n",
       "      <td>0.088314</td>\n",
       "      <td>-0.037016</td>\n",
       "      <td>-0.289883</td>\n",
       "      <td>-0.057985</td>\n",
       "      <td>-0.166747</td>\n",
       "      <td>-0.198435</td>\n",
       "      <td>-0.134976</td>\n",
       "      <td>-0.136353</td>\n",
       "      <td>-0.263105</td>\n",
       "      <td>0.268271</td>\n",
       "      <td>0.347645</td>\n",
       "      <td>0.188824</td>\n",
       "      <td>-0.241214</td>\n",
       "      <td>0.264046</td>\n",
       "      <td>0.005302</td>\n",
       "      <td>-0.120841</td>\n",
       "      <td>0.015576</td>\n",
       "      <td>-0.020667</td>\n",
       "      <td>-0.321436</td>\n",
       "      <td>0.121794</td>\n",
       "      <td>0.201613</td>\n",
       "      <td>0.050592</td>\n",
       "      <td>-0.227207</td>\n",
       "      <td>0.093793</td>\n",
       "    </tr>\n",
       "  </tbody>\n",
       "</table>\n",
       "</div>"
      ],
      "text/plain": [
       "                 radius_mean  texture_mean  perimeter_mean  area_mean  \\\n",
       "PCA Component 0     0.217057      0.101900        0.225804   0.219079   \n",
       "PCA Component 1    -0.239776     -0.061533       -0.220949  -0.236925   \n",
       "PCA Component 2    -0.008311      0.042622       -0.008682   0.026774   \n",
       "PCA Component 3     0.034019     -0.604567        0.034811   0.049760   \n",
       "PCA Component 4     0.051273     -0.078389        0.049230   0.019268   \n",
       "\n",
       "                 smoothness_mean  compactness_mean  concavity_mean  \\\n",
       "PCA Component 0         0.148588          0.241928        0.257761   \n",
       "PCA Component 1         0.177063          0.139921        0.060089   \n",
       "PCA Component 2        -0.123747         -0.072390        0.006244   \n",
       "PCA Component 3         0.172319          0.026919        0.018772   \n",
       "PCA Component 4        -0.353763          0.005880        0.088314   \n",
       "\n",
       "                 concave_points_mean  symmetry_mean  fractal_dimension_mean  \\\n",
       "PCA Component 0             0.260383       0.142086                0.071593   \n",
       "PCA Component 1            -0.040533       0.193612                0.366648   \n",
       "PCA Component 2            -0.033120      -0.031526               -0.024754   \n",
       "PCA Component 3             0.066597       0.060259                0.047728   \n",
       "PCA Component 4            -0.037016      -0.289883               -0.057985   \n",
       "\n",
       "                 radius_se  texture_se  perimeter_se   area_se  smoothness_se  \\\n",
       "PCA Component 0   0.204691    0.020209      0.210071  0.199926       0.023165   \n",
       "PCA Component 1  -0.110270    0.075842     -0.094415 -0.157130       0.190535   \n",
       "PCA Component 2   0.261601    0.365249      0.260287  0.212088       0.296997   \n",
       "PCA Component 3   0.101823   -0.365445      0.091772  0.115349       0.051559   \n",
       "PCA Component 4  -0.166747   -0.198435     -0.134976 -0.136353      -0.263105   \n",
       "\n",
       "                 compactness_se  concavity_se  concave_points_se  symmetry_se  \\\n",
       "PCA Component 0        0.175339      0.150796           0.184483     0.050398   \n",
       "PCA Component 1        0.224035      0.202019           0.133313     0.174132   \n",
       "PCA Component 2        0.169105      0.195783           0.228363     0.295181   \n",
       "PCA Component 3       -0.038399     -0.008924           0.050397     0.052284   \n",
       "PCA Component 4        0.268271      0.347645           0.188824    -0.241214   \n",
       "\n",
       "                 fractal_dimension_se  radius_worst  texture_worst  \\\n",
       "PCA Component 0              0.107000      0.226607       0.104176   \n",
       "PCA Component 1              0.276203     -0.223083      -0.047070   \n",
       "PCA Component 2              0.224180     -0.051765      -0.065006   \n",
       "PCA Component 3             -0.006080      0.014340      -0.625307   \n",
       "PCA Component 4              0.264046      0.005302      -0.120841   \n",
       "\n",
       "                 perimeter_worst  area_worst  smoothness_worst  \\\n",
       "PCA Component 0         0.235494    0.223108          0.129968   \n",
       "PCA Component 1        -0.202365   -0.223734          0.168982   \n",
       "PCA Component 2        -0.051920   -0.018463         -0.273405   \n",
       "PCA Component 3         0.011821    0.028554          0.046106   \n",
       "PCA Component 4         0.015576   -0.020667         -0.321436   \n",
       "\n",
       "                 compactness_worst  concavity_worst  concave_points_worst  \\\n",
       "PCA Component 0           0.210301         0.226322              0.249367   \n",
       "PCA Component 1           0.142217         0.104547             -0.006525   \n",
       "PCA Component 2          -0.232023        -0.166840             -0.173776   \n",
       "PCA Component 3          -0.086943        -0.070720              0.012278   \n",
       "PCA Component 4           0.121794         0.201613              0.050592   \n",
       "\n",
       "                 symmetry_worst  fractal_dimension_worst  \n",
       "PCA Component 0        0.122964                 0.133513  \n",
       "PCA Component 1        0.150772                 0.277471  \n",
       "PCA Component 2       -0.258227                -0.227019  \n",
       "PCA Component 3       -0.023137                -0.076337  \n",
       "PCA Component 4       -0.227207                 0.093793  "
      ]
     },
     "execution_count": 44,
     "metadata": {},
     "output_type": "execute_result"
    }
   ],
   "source": [
    "# get the indices for the pca\n",
    "pca_dims = []\n",
    "for x in range(0, len(pca_df)):\n",
    "    pca_dims.append('PCA Component {}'.format(x))\n",
    "\n",
    "pca_test_df = pd.DataFrame(component_test.components_, columns=names_index, index=pca_dims)\n",
    "pca_test_df.head()"
   ]
  },
  {
   "cell_type": "code",
   "execution_count": 45,
   "metadata": {
    "execution": {
     "iopub.execute_input": "2021-02-16T20:38:28.021142Z",
     "iopub.status.busy": "2021-02-16T20:38:28.020183Z",
     "iopub.status.idle": "2021-02-16T20:43:00.537432Z",
     "shell.execute_reply": "2021-02-16T20:43:00.538006Z"
    },
    "id": "SpN_lYpfmoEp",
    "outputId": "b7c47e55-dc8f-4c3c-8f25-d97f35a9bc68",
    "papermill": {
     "duration": 272.594233,
     "end_time": "2021-02-16T20:43:00.538234",
     "exception": false,
     "start_time": "2021-02-16T20:38:27.944001",
     "status": "completed"
    },
    "tags": []
   },
   "outputs": [
    {
     "name": "stdout",
     "output_type": "stream",
     "text": [
      "Best Parameters using grid search: \n",
      " {'bootstrap': True, 'criterion': 'entropy', 'max_depth': 9, 'max_features': None, 'min_samples_leaf': 3, 'min_samples_split': 6}\n",
      "Time taken in grid search:  272.45\n"
     ]
    }
   ],
   "source": [
    "np.random.seed(42)\n",
    "start = time.time()\n",
    "\n",
    "# give to GridSearchCV\n",
    "param_dist = {'max_depth': [2, 3, 9, 10, 12, 13, 15],\n",
    "              'bootstrap': [True, False],\n",
    "              'max_features': ['auto', 'sqrt', 'log2', None],\n",
    "              'criterion': ['gini', 'entropy'],\n",
    "              'min_samples_split': [6,8,10,12,16,18,20],\n",
    "              'min_samples_leaf':[3,4,5,6,7,9]}\n",
    "\n",
    "# set up the GridSearch\n",
    "cv_rf = GridSearchCV(rf_pca_classifier, cv = 5,\n",
    "                     param_grid=param_dist, \n",
    "                     n_jobs = 5)\n",
    "\n",
    "# fit the GridSearch\n",
    "cv_rf.fit(X_train_scaled_pca, y_train)\n",
    "print('Best Parameters using grid search: \\n', cv_rf.best_params_)\n",
    "\n",
    "\n",
    "end = time.time()\n",
    "print('Time taken in grid search: {0: .2f}'.format(end - start))"
   ]
  },
  {
   "cell_type": "code",
   "execution_count": 46,
   "metadata": {
    "execution": {
     "iopub.execute_input": "2021-02-16T20:43:00.671010Z",
     "iopub.status.busy": "2021-02-16T20:43:00.670304Z",
     "iopub.status.idle": "2021-02-16T20:43:00.674951Z",
     "shell.execute_reply": "2021-02-16T20:43:00.674281Z"
    },
    "id": "2SyYiVWNqrhC",
    "outputId": "ce5c515f-cd82-4d51-c496-e1a1ee0318fb",
    "papermill": {
     "duration": 0.074662,
     "end_time": "2021-02-16T20:43:00.675131",
     "exception": false,
     "start_time": "2021-02-16T20:43:00.600469",
     "status": "completed"
    },
    "tags": []
   },
   "outputs": [
    {
     "data": {
      "text/plain": [
       "RandomForestClassifier(max_depth=9, min_samples_leaf=3, min_samples_split=6,\n",
       "                       n_estimators=10, random_state=42)"
      ]
     },
     "execution_count": 46,
     "metadata": {},
     "output_type": "execute_result"
    }
   ],
   "source": [
    "# I set bootstrap = true so I can do OOB\n",
    "rf_pca_classifier.set_params(bootstrap=True,criterion='gini', max_depth=9,\n",
    "                             max_features='auto', min_samples_leaf=3, min_samples_split=6)\n"
   ]
  },
  {
   "cell_type": "code",
   "execution_count": 47,
   "metadata": {
    "execution": {
     "iopub.execute_input": "2021-02-16T20:43:00.805944Z",
     "iopub.status.busy": "2021-02-16T20:43:00.805016Z",
     "iopub.status.idle": "2021-02-16T20:43:12.253057Z",
     "shell.execute_reply": "2021-02-16T20:43:12.252234Z"
    },
    "id": "5WDC9K3qyDBC",
    "papermill": {
     "duration": 11.515481,
     "end_time": "2021-02-16T20:43:12.253234",
     "exception": false,
     "start_time": "2021-02-16T20:43:00.737753",
     "status": "completed"
    },
    "tags": []
   },
   "outputs": [],
   "source": [
    "rf_pca_classifier.set_params(warm_start=True, \n",
    "                  oob_score=True)\n",
    "\n",
    "min_estimators = 15\n",
    "max_estimators = 200\n",
    "\n",
    "error_rate = {}\n",
    "\n",
    "for i in range(min_estimators, max_estimators + 1):\n",
    "    rf_pca_classifier.set_params(n_estimators=i)\n",
    "    rf_pca_classifier.fit(X_train_scaled_pca, y_train)\n",
    "\n",
    "    oob_error = 1 - rf_pca_classifier.oob_score_\n",
    "    error_rate[i] = oob_error"
   ]
  },
  {
   "cell_type": "code",
   "execution_count": 48,
   "metadata": {
    "execution": {
     "iopub.execute_input": "2021-02-16T20:43:12.382867Z",
     "iopub.status.busy": "2021-02-16T20:43:12.381850Z",
     "iopub.status.idle": "2021-02-16T20:43:12.641730Z",
     "shell.execute_reply": "2021-02-16T20:43:12.642248Z"
    },
    "id": "o0vDDCRnyiZ7",
    "outputId": "e0a9cfef-c55c-418c-b760-6f95f19b2eae",
    "papermill": {
     "duration": 0.326591,
     "end_time": "2021-02-16T20:43:12.642450",
     "exception": false,
     "start_time": "2021-02-16T20:43:12.315859",
     "status": "completed"
    },
    "tags": []
   },
   "outputs": [
    {
     "data": {
      "text/plain": [
       "Text(0.5, 1.0, 'OOB Error Rate Across various Forest sizes \\n(From 15 to 1000 trees)')"
      ]
     },
     "execution_count": 48,
     "metadata": {},
     "output_type": "execute_result"
    },
    {
     "data": {
      "image/png": "[encoded data removed]",
      "text/plain": [
       "<Figure size 720x720 with 1 Axes>"
      ]
     },
     "metadata": {},
     "output_type": "display_data"
    }
   ],
   "source": [
    "fig, ax = plt.subplots(figsize=(10, 10))\n",
    "\n",
    "ax.set_facecolor('#fafafa')\n",
    "\n",
    "oob_series.plot(kind='line',\n",
    "                color = 'blue')\n",
    "plt.axhline(0.055, \n",
    "            color='#875FDB',\n",
    "           linestyle='--')\n",
    "plt.axhline(0.05, \n",
    "            color='#875FDB',\n",
    "           linestyle='--')\n",
    "plt.xlabel('n_estimators')\n",
    "plt.ylabel('OOB Error Rate')\n",
    "plt.title('OOB Error Rate Across various Forest sizes \\n(From 15 to 1000 trees)')"
   ]
  },
  {
   "cell_type": "code",
   "execution_count": 49,
   "metadata": {
    "execution": {
     "iopub.execute_input": "2021-02-16T20:43:12.777324Z",
     "iopub.status.busy": "2021-02-16T20:43:12.776208Z",
     "iopub.status.idle": "2021-02-16T20:43:12.784856Z",
     "shell.execute_reply": "2021-02-16T20:43:12.785343Z"
    },
    "id": "l-W9GIR5055b",
    "outputId": "bf18907a-610c-43e1-be81-010ac0a75b0b",
    "papermill": {
     "duration": 0.078119,
     "end_time": "2021-02-16T20:43:12.785586",
     "exception": false,
     "start_time": "2021-02-16T20:43:12.707467",
     "status": "completed"
    },
    "tags": []
   },
   "outputs": [
    {
     "data": {
      "text/plain": [
       "RandomForestClassifier(bootstrap=False, max_depth=9, min_samples_leaf=3,\n",
       "                       min_samples_split=6, n_estimators=185, random_state=42)"
      ]
     },
     "execution_count": 49,
     "metadata": {},
     "output_type": "execute_result"
    }
   ],
   "source": [
    "rf_pca_classifier.set_params(n_estimators=185,\n",
    "                  bootstrap = False,\n",
    "                  warm_start=False, \n",
    "                  oob_score=False)"
   ]
  },
  {
   "cell_type": "code",
   "execution_count": 50,
   "metadata": {
    "execution": {
     "iopub.execute_input": "2021-02-16T20:43:12.922937Z",
     "iopub.status.busy": "2021-02-16T20:43:12.922248Z",
     "iopub.status.idle": "2021-02-16T20:43:13.334225Z",
     "shell.execute_reply": "2021-02-16T20:43:13.333502Z"
    },
    "id": "OotSQSCX0_B3",
    "outputId": "c7b03faa-e083-4186-aeca-a10f67fc6aa9",
    "papermill": {
     "duration": 0.482764,
     "end_time": "2021-02-16T20:43:13.334399",
     "exception": false,
     "start_time": "2021-02-16T20:43:12.851635",
     "status": "completed"
    },
    "tags": []
   },
   "outputs": [
    {
     "data": {
      "text/plain": [
       "RandomForestClassifier(bootstrap=False, max_depth=9, min_samples_leaf=3,\n",
       "                       min_samples_split=6, n_estimators=185, random_state=42)"
      ]
     },
     "execution_count": 50,
     "metadata": {},
     "output_type": "execute_result"
    }
   ],
   "source": [
    "rf_pca_classifier.fit(X_train_scaled_pca, y_train)"
   ]
  },
  {
   "cell_type": "code",
   "execution_count": 51,
   "metadata": {
    "execution": {
     "iopub.execute_input": "2021-02-16T20:43:13.475218Z",
     "iopub.status.busy": "2021-02-16T20:43:13.474304Z",
     "iopub.status.idle": "2021-02-16T20:43:17.405978Z",
     "shell.execute_reply": "2021-02-16T20:43:17.405243Z"
    },
    "id": "u8LNM8Sx1QRe",
    "outputId": "efa039b9-1b4d-412d-e92c-ac8e435e6387",
    "papermill": {
     "duration": 4.005356,
     "end_time": "2021-02-16T20:43:17.406150",
     "exception": false,
     "start_time": "2021-02-16T20:43:13.400794",
     "status": "completed"
    },
    "tags": []
   },
   "outputs": [
    {
     "name": "stdout",
     "output_type": "stream",
     "text": [
      "Time elapsed to do Cross Validation: 3.93 seconds.\n",
      "Cross validation run 0:  0.935\n",
      "Cross validation run 1:  0.935\n",
      "Cross validation run 2:  0.978\n",
      "Cross validation run 3:  1.000\n",
      "Cross validation run 4:  0.935\n",
      "Cross validation run 5:  0.911\n",
      "Cross validation run 6:  0.933\n",
      "Cross validation run 7:  0.978\n",
      "Cross validation run 8:  0.956\n",
      "Cross validation run 9:  0.933\n",
      "Accuracy:  0.949 (+/-  0.013)\n"
     ]
    }
   ],
   "source": [
    "cross_val_metrics(rf_pca_classifier, \n",
    "                  X_train_scaled_pca, \n",
    "                  y_train, \n",
    "                  'rf',\n",
    "                  print_results = True)"
   ]
  },
  {
   "cell_type": "code",
   "execution_count": 52,
   "metadata": {
    "execution": {
     "iopub.execute_input": "2021-02-16T20:43:17.551993Z",
     "iopub.status.busy": "2021-02-16T20:43:17.547426Z",
     "iopub.status.idle": "2021-02-16T20:43:17.569339Z",
     "shell.execute_reply": "2021-02-16T20:43:17.568776Z"
    },
    "id": "zvDIv2xJ3kEb",
    "papermill": {
     "duration": 0.097651,
     "end_time": "2021-02-16T20:43:17.569495",
     "exception": false,
     "start_time": "2021-02-16T20:43:17.471844",
     "status": "completed"
    },
    "tags": []
   },
   "outputs": [],
   "source": [
    "pca_rf_predictions = rf_pca_classifier.predict(X_test_scaled_pca)"
   ]
  },
  {
   "cell_type": "code",
   "execution_count": 53,
   "metadata": {
    "execution": {
     "iopub.execute_input": "2021-02-16T20:43:17.756461Z",
     "iopub.status.busy": "2021-02-16T20:43:17.722228Z",
     "iopub.status.idle": "2021-02-16T20:43:17.852789Z",
     "shell.execute_reply": "2021-02-16T20:43:17.852231Z"
    },
    "id": "1yO286eD3ybd",
    "outputId": "27b6edc5-36eb-494d-f157-3707ef4e52db",
    "papermill": {
     "duration": 0.217164,
     "end_time": "2021-02-16T20:43:17.852964",
     "exception": false,
     "start_time": "2021-02-16T20:43:17.635800",
     "status": "completed"
    },
    "tags": []
   },
   "outputs": [
    {
     "data": {
      "image/png": "[encoded data removed]",
      "text/plain": [
       "<Figure size 432x288 with 1 Axes>"
      ]
     },
     "metadata": {},
     "output_type": "display_data"
    }
   ],
   "source": [
    "conf_mat = create_conf_mat(test_class_set, pca_rf_predictions)\n",
    "sns.heatmap(conf_mat, annot=True, fmt='d', cbar=False)\n",
    "plt.xlabel('Predicted Values')\n",
    "plt.ylabel('Actual Values')\n",
    "plt.title('Actual vs. Predicted Confusion Matrix')\n",
    "plt.show()"
   ]
  },
  {
   "cell_type": "code",
   "execution_count": 54,
   "metadata": {
    "execution": {
     "iopub.execute_input": "2021-02-16T20:43:18.000967Z",
     "iopub.status.busy": "2021-02-16T20:43:17.997315Z",
     "iopub.status.idle": "2021-02-16T20:43:18.020923Z",
     "shell.execute_reply": "2021-02-16T20:43:18.021393Z"
    },
    "id": "e8y6wezT321S",
    "outputId": "14a6a05c-a4e3-46fd-bd07-cb4a387c9c29",
    "papermill": {
     "duration": 0.100654,
     "end_time": "2021-02-16T20:43:18.021627",
     "exception": false,
     "start_time": "2021-02-16T20:43:17.920973",
     "status": "completed"
    },
    "tags": []
   },
   "outputs": [
    {
     "name": "stdout",
     "output_type": "stream",
     "text": [
      "Here is our mean accuracy on the test set:\n",
      " 0.965\n"
     ]
    }
   ],
   "source": [
    "accuracy_rf = rf_pca_classifier.score(X_test_scaled_pca, y_test)\n",
    "\n",
    "print(\"Here is our mean accuracy on the test set:\\n {0:.3f}\"\\\n",
    "      .format(accuracy_rf))"
   ]
  },
  {
   "cell_type": "code",
   "execution_count": 55,
   "metadata": {
    "execution": {
     "iopub.execute_input": "2021-02-16T20:43:18.164269Z",
     "iopub.status.busy": "2021-02-16T20:43:18.163593Z",
     "iopub.status.idle": "2021-02-16T20:43:18.168931Z",
     "shell.execute_reply": "2021-02-16T20:43:18.169385Z"
    },
    "id": "9elq7knI4DdY",
    "outputId": "0661c7b3-331a-4722-d52c-21cf5b2d5855",
    "papermill": {
     "duration": 0.079611,
     "end_time": "2021-02-16T20:43:18.169616",
     "exception": false,
     "start_time": "2021-02-16T20:43:18.090005",
     "status": "completed"
    },
    "tags": []
   },
   "outputs": [
    {
     "name": "stdout",
     "output_type": "stream",
     "text": [
      "The test error rate for our model is:\n",
      "  0.0351\n"
     ]
    }
   ],
   "source": [
    "# Here we calculate the test error rate!\n",
    "test_error_rate_rf = 1 - accuracy_rf\n",
    "print(\"The test error rate for our model is:\\n {0: .4f}\"\\\n",
    "      .format(test_error_rate_rf))"
   ]
  },
  {
   "cell_type": "code",
   "execution_count": 56,
   "metadata": {
    "execution": {
     "iopub.execute_input": "2021-02-16T20:43:18.310938Z",
     "iopub.status.busy": "2021-02-16T20:43:18.310247Z",
     "iopub.status.idle": "2021-02-16T20:43:18.337947Z",
     "shell.execute_reply": "2021-02-16T20:43:18.337355Z"
    },
    "id": "R2JBO6qp6KfC",
    "outputId": "2524c85b-0e0d-4884-f536-c67e09c12f4d",
    "papermill": {
     "duration": 0.099641,
     "end_time": "2021-02-16T20:43:18.338117",
     "exception": false,
     "start_time": "2021-02-16T20:43:18.238476",
     "status": "completed"
    },
    "tags": []
   },
   "outputs": [
    {
     "name": "stdout",
     "output_type": "stream",
     "text": [
      "0.9900793650793651\n"
     ]
    }
   ],
   "source": [
    "# predict_proba returns two arrays that represent the predicted_prob of negative class and positive class respectively.\n",
    "# I just want to take the positive classes in this instance\n",
    "\n",
    "predictions_prob_pca_rf = rf_pca_classifier.predict_proba(X_test_scaled_pca)[:, 1]\n",
    "\n",
    "# use roc_curve to produce \n",
    "fals_pos_r2, true_pos_r2, _ = roc_curve(y_test,\n",
    "                          predictions_prob_pca_rf,\n",
    "                          pos_label = 1)\n",
    "\n",
    "auc_pca_rf = auc(fals_pos_r2, true_pos_r2)\n",
    "\n",
    "print(auc_pca_rf)"
   ]
  },
  {
   "cell_type": "code",
   "execution_count": 57,
   "metadata": {
    "execution": {
     "iopub.execute_input": "2021-02-16T20:43:18.509636Z",
     "iopub.status.busy": "2021-02-16T20:43:18.508932Z",
     "iopub.status.idle": "2021-02-16T20:43:18.710041Z",
     "shell.execute_reply": "2021-02-16T20:43:18.710789Z"
    },
    "id": "YLMlpSh67tCr",
    "outputId": "f622de3e-2ab5-4984-f2d9-37381acee8ff",
    "papermill": {
     "duration": 0.303481,
     "end_time": "2021-02-16T20:43:18.711014",
     "exception": false,
     "start_time": "2021-02-16T20:43:18.407533",
     "status": "completed"
    },
    "tags": []
   },
   "outputs": [
    {
     "data": {
      "image/png": "[encoded data removed]",
      "text/plain": [
       "<Figure size 720x720 with 1 Axes>"
      ]
     },
     "metadata": {},
     "output_type": "display_data"
    }
   ],
   "source": [
    "plot_roc_curve(fals_pos_r2, true_pos_r2, auc_pca_rf, 'rf',\n",
    "               xlim=(-0.01, 1.05), \n",
    "               ylim=(0.001, 1.05))"
   ]
  },
  {
   "cell_type": "code",
   "execution_count": 58,
   "metadata": {
    "execution": {
     "iopub.execute_input": "2021-02-16T20:43:18.858735Z",
     "iopub.status.busy": "2021-02-16T20:43:18.857905Z",
     "iopub.status.idle": "2021-02-16T20:43:19.110822Z",
     "shell.execute_reply": "2021-02-16T20:43:19.111367Z"
    },
    "id": "RxnGFjex72IA",
    "outputId": "479ccfba-796e-48b7-b163-f59e89135a1d",
    "papermill": {
     "duration": 0.328887,
     "end_time": "2021-02-16T20:43:19.111606",
     "exception": false,
     "start_time": "2021-02-16T20:43:18.782719",
     "status": "completed"
    },
    "tags": []
   },
   "outputs": [
    {
     "data": {
      "image/png": "[encoded data removed]",
      "text/plain": [
       "<Figure size 720x720 with 1 Axes>"
      ]
     },
     "metadata": {},
     "output_type": "display_data"
    }
   ],
   "source": [
    "plot_roc_curve(fals_pos_r2, true_pos_r2, auc_pca_rf, 'rf',\n",
    "               xlim=(-0.01, 0.2), \n",
    "               ylim=(0.85, 1.01))"
   ]
  },
  {
   "cell_type": "code",
   "execution_count": 59,
   "metadata": {
    "execution": {
     "iopub.execute_input": "2021-02-16T20:43:19.267340Z",
     "iopub.status.busy": "2021-02-16T20:43:19.266686Z",
     "iopub.status.idle": "2021-02-16T20:43:19.278286Z",
     "shell.execute_reply": "2021-02-16T20:43:19.279250Z"
    },
    "id": "D6sy5rv45EnB",
    "outputId": "ba3c9aff-7532-4188-db01-9aa94fad6a61",
    "papermill": {
     "duration": 0.089374,
     "end_time": "2021-02-16T20:43:19.279643",
     "exception": false,
     "start_time": "2021-02-16T20:43:19.190269",
     "status": "completed"
    },
    "tags": []
   },
   "outputs": [
    {
     "name": "stdout",
     "output_type": "stream",
     "text": [
      "Classification Report for PCA reduced Random Forest\n",
      "               precision    recall  f1-score   support\n",
      "\n",
      "      Benign       0.99      0.96      0.97        74\n",
      "   Malignant       0.93      0.97      0.95        40\n",
      "\n",
      "    accuracy                           0.96       114\n",
      "   macro avg       0.96      0.97      0.96       114\n",
      "weighted avg       0.97      0.96      0.97       114\n",
      "\n"
     ]
    }
   ],
   "source": [
    "print('Classification Report for PCA reduced Random Forest\\n', classification_report(pca_rf_predictions, y_test, target_names = dx))"
   ]
  },
  {
   "cell_type": "code",
   "execution_count": null,
   "metadata": {},
   "outputs": [],
   "source": [
    "model.save('cancer_model.plk') "
   ]
  }
 ],
 "metadata": {
  "kernelspec": {
   "display_name": "Python 3",
   "language": "python",
   "name": "python3"
  },
  "language_info": {
   "codemirror_mode": {
    "name": "ipython",
    "version": 3
   },
   "file_extension": ".py",
   "mimetype": "text/x-python",
   "name": "python",
   "nbconvert_exporter": "python",
   "pygments_lexer": "ipython3",
   "version": "3.7.9"
  },
  "papermill": {
   "default_parameters": {},
   "duration": 393.933364,
   "end_time": "2021-02-16T20:43:20.711024",
   "environment_variables": {},
   "exception": null,
   "input_path": "__notebook__.ipynb",
   "output_path": "__notebook__.ipynb",
   "parameters": {},
   "start_time": "2021-02-16T20:36:46.777660",
   "version": "2.2.2"
  }
 },
 "nbformat": 4,
 "nbformat_minor": 4
}
